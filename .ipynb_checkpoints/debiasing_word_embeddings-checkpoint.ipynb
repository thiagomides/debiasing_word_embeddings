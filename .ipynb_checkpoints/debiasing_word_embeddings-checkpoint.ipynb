{
 "cells": [
  {
   "cell_type": "markdown",
   "id": "5aaff98e-29bc-4804-bb47-ee907c594e5b",
   "metadata": {},
   "source": [
    "# Understanding Word Embeddings and Bias in Modern Natural Language Processing (NLP)\n",
    "\n",
    "Word embeddings are foundational tools in modern natural language processing (NLP). They allow us to represent words as dense, continuous-valued vectors in a high-dimensional space, where semantic relationships are captured through vector similarity and direction. For example, embeddings can model analogies such as:\n",
    "\n",
    "$$\n",
    "\\text{“king”} - \\text{“man”} + \\text{“woman”} \\approx \\text{“queen”} \n",
    "$$\n",
    "\n",
    "Rather than training word embeddings from scratch—which would require massive datasets and computational power—we typically rely on **pretrained embeddings** (e.g., GloVe, Word2Vec, fastText) trained on large corpora such as Wikipedia or Common Crawl. These embeddings are widely used as input features for various NLP tasks, including sentiment analysis, named entity recognition, and machine translation.\n",
    "\n",
    "However, since these embeddings are trained on real-world data, they often inherit and amplify **societal biases** present in the text. This introduces fairness and ethical concerns when embeddings are used in downstream applications. Understanding how these biases arise, and how to mitigate them through techniques like **Hard Debiasing**, is essential for building more responsible NLP systems.\n"
   ]
  },
  {
   "cell_type": "markdown",
   "id": "13327a1d-1f8d-419e-9d7d-6843f5325cf2",
   "metadata": {},
   "source": [
    "## Table of Contents\n",
    "\n",
    "- [1 - Packages](#1---Packages)\n",
    "- [2 - Load the Word Vectors](#2---Load-the-Word-Vectors)\n",
    "    - [2.1 - Embedding Visualization](#2.1---Embedding-Visualization)\n",
    "- [3 - Similarity Measure](#3---Similarity-Measure)\n",
    "    - [3.1 - Cosine Similarity](#3.1---Cosine-Similarity)\n",
    "    - [3.2 - More Complex Relationships](#3.2---More-Complex-Relationships)\n",
    "    - [3.3 - From Similarity to Visualization with t-SNE](#3.3---Similarity-to-Visualization-with-t-SNE)\n",
    "- [4 - Word Analogy](#4---Word-Analogy)\n",
    "    - [4.1 - Underlying Biases](#4---Underlying-Biases)\n",
    "- [5 - Debiasing Word Vectors with Hard Debiasing](#5---Debiasing-Word-Vectors-with-Hard-Debiasing)\n",
    "    - [5.1 - Bias Direction](#5.1---Bias-Direction)\n",
    "    - [5.2 - Inspecting Names Along the Gender Direction](#5.2---Inspecting-Names-Along-the-Gender-Direction)\n",
    "    - [5.3 - Inspecting Other Words and Their Similarities with the Gender Direction](#5.3---Inspecting-Other-Words-and-Their-Similarities-with-the-Gender-Direction)\n",
    "    - [5.4 - Neutralizing Bias in Non-Gendered Words](#5.4---Neutralizing-Bias-in-Non-Gendered-Words)\n",
    "        - [5.4.1 - Step-by-Step: Neutralizing a Word Vector](#5.4.1---Step-by-Step:-Neutralizing-a-Word-Vector)\n",
    "    - [5.5 - Equalization Algorithm for Gender-Specific Words](#5.5---Equalization-Algorithm-for-Gender-Specific-Words)\n",
    "        - [5.5.1 - Step-by-Step: Equalization a Word Vector](#5.5.1---Step-by-Step:-Equalization-a-Word-Vector)\n"
   ]
  },
  {
   "cell_type": "markdown",
   "id": "330aa753-24b7-4162-b2c1-8d019eabf7a6",
   "metadata": {},
   "source": [
    "---\n",
    "\n",
    "<a name='1'></a>\n",
    "## 1 - Packages"
   ]
  },
  {
   "cell_type": "code",
   "execution_count": 1,
   "id": "6eed7d4e-fc85-4c99-84fb-8ab5b101e1c4",
   "metadata": {},
   "outputs": [],
   "source": [
    "import numpy as np\n",
    "import matplotlib.pyplot as plt\n",
    "from sklearn.manifold import TSNE\n",
    "from utils import *"
   ]
  },
  {
   "cell_type": "markdown",
   "id": "00f42739-f42a-4a7e-bcc2-dd6aff649c03",
   "metadata": {},
   "source": [
    "---\n",
    "\n",
    "<a name='2'></a>\n",
    "## 2 - Load the Word Vectors\n",
    "\n",
    "For this project, we will use a pre-trained word embedding representation of the GloVe algorithm with 400k words that are embedded in a 50-dimensional representation. So, the file `data/glove.6B.50d.txt` includes a word per line followed by its vector embedding. Here, we simple open the file and load the unique words in a set and their embeddings in a dictionary for easy access."
   ]
  },
  {
   "cell_type": "code",
   "execution_count": 2,
   "id": "fc9eb7cf-534e-4616-a333-3ea68058801a",
   "metadata": {},
   "outputs": [],
   "source": [
    "vocab, word_to_vec_map = read_glove_vecs('data/glove.6B.50d.txt')"
   ]
  },
  {
   "cell_type": "markdown",
   "id": "14037a31-8200-4bff-b7dd-1e643bc0d78e",
   "metadata": {},
   "source": [
    "<a name='2.1'></a>\n",
    "\n",
    "### 2.1 - Embedding Visualization\n",
    "\n",
    "In `word_to_vec_map`, each word is represented as a 50-dimensional vector. Since it's difficult to interpret all 50 values directly, we’ll display only the **first 5 dimensions** of each embedding for simplicity.\n",
    "\n",
    "The selected words are: `cat`, `sheep`, `man`, `woman`, `orange`, and `apple`. These examples include animals, people, and fruits—allowing us to observe how similar concepts cluster in the embedding space."
   ]
  },
  {
   "cell_type": "code",
   "execution_count": 18,
   "id": "2fbd20be-efa9-4a32-a71e-e64765e54454",
   "metadata": {},
   "outputs": [
    {
     "name": "stdout",
     "output_type": "stream",
     "text": [
      "cat [ 0.45281  -0.50108  -0.53714  -0.015697  0.22191 ]\n",
      "sheep [ 0.39026 -1.1357  -0.47646 -1.0185   0.44893]\n",
      "man [-0.094386  0.43007  -0.17224  -0.45529   1.6447  ]\n",
      "woman [-0.18153  0.64827 -0.5821  -0.49451  1.5415 ]\n",
      "orange [-0.42783   0.43089  -0.50351   0.5776    0.097786]\n",
      "apple [ 0.52042 -0.8314   0.49961  1.2893   0.1151 ]\n"
     ]
    }
   ],
   "source": [
    "for w in ['cat', 'sheep', 'man', 'woman', 'orange', 'apple']:\n",
    "    if w not in vocab: continue\n",
    "    print(w, word_to_vec_map[w][:5])"
   ]
  },
  {
   "cell_type": "markdown",
   "id": "b3753bbd-dbdb-4a93-93f2-47dfb3c007d3",
   "metadata": {},
   "source": [
    "---\n",
    "\n",
    "<a name='3'></a>\n",
    "\n",
    "## 3 - Similarity Measure\n",
    "\n",
    "The power of word embeddings lies in their ability to generalize and represent semantic relationships between words. A well-trained embedding model tends to place similar concepts closer together in the vector space. For example, the embeddings of **boy** and **man** should be relatively close to each other, just as **girl** and **woman** should be. One way to explore this idea is by measuring the similarity between two words through their embedding vectors.\n",
    "\n",
    "To assess similarity between two words, we use a mathematical measure that quantifies the closeness between their embedding vectors. Common similarity measures include **Cosine similarity**, **Euclidean distance**, **Manhattan distance**, and **Chebyshev distance**. While different similarity functions can be used, **cosine similarity** is often preferred.\n",
    "\n",
    "<a name='3.1'></a>\n",
    "\n",
    "### 3.1 - Cosine Similarity\n",
    "\n",
    "Given two vectors $u$ and $v$, **cosine similarity** is defined as:\n",
    "\n",
    "$$\n",
    "\\text{CosineSimilarity}(u, v) = \\frac {u \\cdot v} {\\|u\\|_2 \\|v\\|_2} = \\cos(\\theta) \\tag{1}\n",
    "$$\n",
    "where:\n",
    "\n",
    "* $u \\cdot v$ is the **dot product** of the vectors.\n",
    "* $\\|u\\|_2$ is the **Euclidean norm** (or length) of vector $u$, given by $\\sqrt{\\sum_{i=1}^{n} u_i^2}$.\n",
    "* $\\theta$ is the **angle** between vectors $u$ and $v$.\n",
    "\n",
    "Interpretation:\n",
    "\n",
    "* If $u$ and $v$ are **very similar**, the angle $\\theta$ between them is small, and the cosine similarity is close to **1**.\n",
    "* If $u$ and $v$ are **dissimilar**, the angle is larger, and the cosine similarity decreases toward **0** (or even **-1** for opposite directions).\n",
    "\n",
    "<br>\n",
    "\n",
    "<img src=\"images/cosine_sim.png\">\n",
    "<caption><center><font color='blue'><b>Figure 1</b>: The cosine of the angle between two vectors is a measure of their similarity. Image retrieve from the Deep Learning Specialization by Prof. Andrew Ng.</font></center></caption>\n",
    "\n",
    "<a name='3.1.1'></a>\n",
    "\n",
    "### 3.1.1 - Evaluating Similarity Pairs"
   ]
  },
  {
   "cell_type": "code",
   "execution_count": 19,
   "id": "1bcfcbd8-60c8-42af-a19e-1a8c189b93e2",
   "metadata": {},
   "outputs": [
    {
     "name": "stdout",
     "output_type": "stream",
     "text": [
      "cosine_similarity(cat, sheep): 0.6291239695676666\n",
      "cosine_similarity(man, boy): 0.8564431790318322\n",
      "cosine_similarity(woman, girl): 0.9065280671323898\n",
      "cosine_similarity(man, woman): 0.886033771849582\n",
      "cosine_similarity(orange, apple): 0.5388040721946523\n",
      "cosine_similarity(cat, man): 0.6240708914812086\n",
      "cosine_similarity(sheep, woman): 0.3320790184563425\n"
     ]
    }
   ],
   "source": [
    "pairs = [\n",
    "    ('cat', 'sheep'), \n",
    "    ('man', 'boy'), \n",
    "    ('woman', 'girl'), \n",
    "    ('man', 'woman'), \n",
    "    ('orange', 'apple'), \n",
    "    ('cat', 'man'), \n",
    "    ('sheep', 'woman')\n",
    "]\n",
    "\n",
    "for word1, word2 in pairs:    \n",
    "    print(f'cosine_similarity({word1}, {word2}): {cosine_similarity(word_to_vec_map[word1], word_to_vec_map[word2])}')"
   ]
  },
  {
   "cell_type": "markdown",
   "id": "ddda698c-e3d1-48b3-bd79-ac7a2bfe401a",
   "metadata": {},
   "source": [
    "<a name='3.2'></a>\n",
    "\n",
    "### 3.2 - More Complex Relationships\n",
    "\n",
    "To explore more complex relationships between words, one common technique is to analyze **vector differences** between related words.\n",
    "\n",
    "For example, the relationship between **'grandfather'** and **'father'** can be captured by the difference of their embeddings. Similarly, the difference between **'grandmother'** and **'mother'** should be similar. By subtracting word vectors, we aim to uncover the underlying semantic relationship (e.g., generational or gender-based shifts).\n",
    "\n",
    "This idea is central to many famous examples in word embeddings, such as:\n",
    "\n",
    "$$\n",
    "\\text{vec}(\\text{\"king\"}) - \\text{vec}(\\text{\"man\"}) + \\text{vec}(\\text{\"woman\"}) \\approx \\text{vec}(\\text{\"queen\"})  \\tag{2}\n",
    "$$\n",
    "\n",
    "These vector arithmetic operations demonstrate that word embeddings can encode not just similarity, but **relational structure**—allowing us to reason analogically in the embedding space.\n"
   ]
  },
  {
   "cell_type": "code",
   "execution_count": 20,
   "id": "87bc26c5-39ee-4c27-a2d1-20c4ca23a495",
   "metadata": {},
   "outputs": [
    {
     "name": "stdout",
     "output_type": "stream",
     "text": [
      "cosine_similarity(king - man + woman, queen) -> 0.8609581258578943\n",
      "cosine_similarity(dad - man + woman, mother) -> 0.837962108146877\n"
     ]
    }
   ],
   "source": [
    "tuples_to_try = [\n",
    "    ('king', 'man', 'woman', 'queen'),\n",
    "    ('dad', 'man', 'woman', 'mother')\n",
    "]\n",
    "\n",
    "for tuples in tuples_to_try:\n",
    "    result = cosine_similarity(word_to_vec_map[tuples[0]] - word_to_vec_map[tuples[1]] + word_to_vec_map[tuples[2]], word_to_vec_map[tuples[3]])\n",
    "    print(f\"cosine_similarity({tuples[0]} - {tuples[1]} + {tuples[2]}, {tuples[3]}) -> {result}\")"
   ]
  },
  {
   "cell_type": "markdown",
   "id": "ee212839-d779-4a14-9efd-a3c03aa1d283",
   "metadata": {},
   "source": [
    "<a name='3.3'></a>\n",
    "\n",
    "### 3.3 - Similarity Visualization with t-SNE\n",
    "\n",
    "To build an intuitive understanding of how word embeddings cluster semantically similar words together, we can visualize them in two dimensions.\n",
    "\n",
    "Since word embeddings typically exist in a high-dimensional space (e.g., 50 or 300 dimensions), we use dimensionality reduction techniques to project them onto a 2D plane. One of the most effective tools for this is **t-distributed Stochastic Neighbor Embedding (t-SNE)**. "
   ]
  },
  {
   "cell_type": "code",
   "execution_count": 22,
   "id": "bd7f8e82-0920-4fb0-84ea-6a4044c70b47",
   "metadata": {},
   "outputs": [
    {
     "data": {
      "image/png": "[encoded data removed]",
      "text/plain": [
       "<Figure size 800x600 with 1 Axes>"
      ]
     },
     "metadata": {},
     "output_type": "display_data"
    }
   ],
   "source": [
    "words = ['cat', 'sheep', 'man', 'woman', 'orange', 'apple', 'boy', 'girl', 'grandmother', 'grandfather', 'mom', 'dad']\n",
    "X = [word_to_vec_map[w] for w in words]\n",
    "\n",
    "# adding more complex relationships\n",
    "words = words + ['dad - grandfather', 'mom - grandmother']\n",
    "X.append(word_to_vec_map['dad'] - word_to_vec_map['grandfather'])\n",
    "X.append(word_to_vec_map['mom'] - word_to_vec_map['grandmother'])\n",
    "\n",
    "tsne = TSNE(n_components = 2, random_state = 0, perplexity = 5)\n",
    "embeds_2d = tsne.fit_transform(np.array(X))\n",
    "\n",
    "plot_tsne(words, embeds_2d)"
   ]
  },
  {
   "cell_type": "markdown",
   "id": "60379e79-380d-402a-b593-6a2f5df6ff42",
   "metadata": {},
   "source": [
    "**Intuition:** Notably, **`cat` and `sheep`** appear close together in the 2D space, as do **`apple` and `orange`**, and **`woman` and `man`**, reflecting their semantic similarity in the original high-dimensional embedding space."
   ]
  },
  {
   "cell_type": "markdown",
   "id": "20ac066b-5b41-4329-b4f5-9ce6a99e9874",
   "metadata": {},
   "source": [
    "---\n",
    "\n",
    "<a name='4'></a>\n",
    "\n",
    "## 4 - Word Analogy\n",
    "\n",
    "We can generalize the idea of semantic relationships through the **word analogy task**.\n",
    "\n",
    "* The task involves completing a sentence of the form: <font color='blue'>\"*a* is to *b* as *c* is to **\\_\\_\\_\\_**\"</font>\n",
    "\n",
    "* A classic example: <font color='blue'>\"*man* is to *woman* as *king* is to *queen*\"</font>\n",
    "\n",
    "In the word embedding space, we aim to find a word *d* such that the word vectors $e_a, e_b, e_c, e_d$ satisfy Equation (2). In other words, we want:\n",
    "\n",
    "$$\n",
    "e_d \\approx e_b - e_a + e_c \\tag{3}\n",
    "$$\n",
    "\n",
    "That is, we can estimate the vector $e_d$ and search for the closest actual word vector in the vocabulary using **cosine similarity**."
   ]
  },
  {
   "cell_type": "code",
   "execution_count": 7,
   "id": "b040b053-e265-4f78-8a6f-63d676ff87ad",
   "metadata": {},
   "outputs": [
    {
     "name": "stdout",
     "output_type": "stream",
     "text": [
      "england -> english :: brazil -> brazilian\n",
      "man -> woman :: boy -> girl\n",
      "small -> smaller :: large -> larger\n",
      "paris -> france :: rome -> italy\n"
     ]
    }
   ],
   "source": [
    "triads_to_try = [\n",
    "    ('england', 'english', 'brazil'),\n",
    "    ('man', 'woman', 'boy'),\n",
    "    ('small', 'smaller', 'large'),\n",
    "    ('paris', 'france', 'rome')\n",
    "]\n",
    "\n",
    "for triad in triads_to_try:\n",
    "    result = word_analogy(*triad, word_to_vec_map = word_to_vec_map, vocab = vocab)\n",
    "    print(f\"{triad[0]} -> {triad[1]} :: {triad[2]} -> {result}\")"
   ]
  },
  {
   "cell_type": "markdown",
   "id": "f1e19ac4-9b22-4dab-b4f1-afbaf4b0223f",
   "metadata": {},
   "source": [
    "**Intuition:**\n",
    "\n",
    "Some of these analogies often make a lot of sense! \n",
    "\n",
    "However, **england** → **english** :: **brazil** → **brazilian** is not entirely accurate — a more precise analogy might be **brazil** → *brazilian portuguese*. Still, the predicted word is often \"close enough\" to reflect meaningful associations.\n",
    "\n",
    "\n",
    "<a name='4.1'></a>\n",
    "\n",
    "### 4.1 - Underlying Biases\n",
    "\n",
    "However, not all analogies are this clean. Some reflect **underlying biases** present in the training data. For example, analogies involving *gender*, *professions*, or *race* may reinforce harmful stereotypes rather than neutral patterns. Let's take a look at a two examples that illustrate this a gender bias issue."
   ]
  },
  {
   "cell_type": "code",
   "execution_count": 8,
   "id": "ae1fa7d2-859a-4109-90db-078f36be95a8",
   "metadata": {},
   "outputs": [
    {
     "name": "stdout",
     "output_type": "stream",
     "text": [
      "man -> engineer :: woman -> technician\n",
      "man -> doctor :: woman -> nurse\n"
     ]
    }
   ],
   "source": [
    "biased_triads = [\n",
    "    ('man', 'engineer', 'woman'),\n",
    "    ('man', 'doctor', 'woman'),\n",
    "]\n",
    "\n",
    "for triad in biased_triads:\n",
    "    result = word_analogy(*triad, word_to_vec_map = word_to_vec_map, vocab = vocab)\n",
    "    print(f\"{triad[0]} -> {triad[1]} :: {triad[2]} -> {result}\")"
   ]
  },
  {
   "cell_type": "markdown",
   "id": "f1ef4e99-284a-4c53-b37e-937341577fa0",
   "metadata": {},
   "source": [
    "To address biases embedded in word vectors, researchers have proposed various **debiasing techniques**. One well-known approach is **Hard Debiasing**, discussed in the following sections.\n",
    "\n",
    "---\n",
    "\n",
    "<a name='5'></a>\n",
    "\n",
    "## 5 - Debiasing Word Vectors with Hard Debiasing\n",
    "\n",
    "The Hard Debiasing process consists of three main steps:\n",
    "\n",
    "1. **Identifying a bias direction** (e.g., the gender direction) by computing a vector that captures the concept of bias.\n",
    "2. **Neutralizing** the bias in words that should be gender-neutral (e.g., *doctor*, *nurse*, *scientist*) by removing their component along the bias direction.\n",
    "3. **Equalizing** gendered word pairs (e.g., *“grandmother”* and *“grandfather”*) so that they are equidistant from neutral concepts.\n",
    "\n",
    "<a name='5.1'></a>\n",
    "\n",
    "### 5.1 - Bias Direction\n",
    "\n",
    "\n",
    "We can explore how **GloVe word embeddings** represent gender. One simple way to do this is by computing the **gender direction** as:\n",
    "\n",
    "$$\n",
    "g = e_{\\text{woman}} - e_{\\text{man}} \\tag{4}\n",
    "$$\n",
    "\n",
    "where $e_{\\text{woman}}$ and $e_{\\text{man}}$ are the embeddings for *woman* and *man*, respectively. This vector $g$ captures a rough representation of gender in the embedding space.\n",
    "\n",
    "For a more robust estimate, we could average multiple gender-related differences, such as:\n",
    "\n",
    "$$\n",
    "g_1 = e_{\\text{mother}} - e_{\\text{father}}, \\quad g_2 = e_{\\text{girl}} - e_{\\text{boy}}, \\quad {etc.} \\tag{5}\n",
    "$$\n",
    "\n",
    "However, using just $e_{\\text{woman}} - e_{\\text{man}}$ is sufficient for many exploratory tasks and provides a good approximation of the gender subspace."
   ]
  },
  {
   "cell_type": "code",
   "execution_count": 9,
   "id": "0f1a27e1-1cfb-4f04-9b8c-553b570c1cb1",
   "metadata": {},
   "outputs": [
    {
     "name": "stdout",
     "output_type": "stream",
     "text": [
      "[ 0.07336785  0.16489635 -0.13490301  0.01259356 -0.05408367  0.28391044\n",
      "  0.00897629  0.04036826  0.25949707 -0.07046061 -0.02264035 -0.20175986\n",
      "  0.25675982  0.08015372  0.10978476  0.04278409 -0.24423643 -0.05215302\n",
      "  0.26257189 -0.01549941  0.113364    0.29236928  0.07361009  0.13418695\n",
      "  0.15204449  0.08833872 -0.06920823  0.18931872  0.0280845  -0.21813619\n",
      " -0.09666052  0.14964541  0.07203181  0.0270664  -0.08148077 -0.07071291\n",
      " -0.06138797 -0.03807559  0.0768596  -0.22137245 -0.03188453 -0.09391473\n",
      "  0.28425201 -0.18623102  0.01401433 -0.09063985  0.13675838 -0.15753885\n",
      "  0.0309212   0.05656646]\n"
     ]
    }
   ],
   "source": [
    "gender_pairs = [\n",
    "    ('woman', 'man'),\n",
    "    ('mother', 'father'),\n",
    "    ('girl', 'boy'),\n",
    "    ('she', 'he'),\n",
    "    ('daughter', 'son'),\n",
    "    ('female', 'male'),\n",
    "    ('her', 'his'),\n",
    "    ('niece', 'nephew'),\n",
    "    ('aunt', 'uncle'),\n",
    "    ('grandmother', 'grandfather')\n",
    "]\n",
    "\n",
    "# compute individual difference vectors\n",
    "g_list = [word_to_vec_map[f] - word_to_vec_map[m] for f, m in gender_pairs]\n",
    "\n",
    "# average them to get the gender direction\n",
    "g = np.mean(g_list, axis=0)\n",
    "\n",
    "# normalize the vector (optinal)\n",
    "g = g / np.linalg.norm(g)\n",
    "\n",
    "# g is now your gender direction vector\n",
    "print(g)"
   ]
  },
  {
   "cell_type": "markdown",
   "id": "c16c4210-366b-47ee-b74e-575d71a88626",
   "metadata": {},
   "source": [
    "<a name='5.2'></a>\n",
    "\n",
    "### 5.2 - Inspecting Names Along the Gender Direction\n",
    "\n",
    "Once we have the gender direction vector $g$, we can examine how strongly different names align with it. Below, we compute the **cosine similarity** between each name’s embedding and the gender direction. A positive similarity suggests alignment with the female direction, while a negative one suggests alignment with the male direction."
   ]
  },
  {
   "cell_type": "code",
   "execution_count": 10,
   "id": "a5f3d457-ac69-4bed-b3dc-1d86933b9d41",
   "metadata": {},
   "outputs": [
    {
     "name": "stdout",
     "output_type": "stream",
     "text": [
      "List of names and their similarities with constructed vector:\n",
      "emma 0.4364690129995367\n",
      "liam -0.05496401597006431\n",
      "olivia 0.3290723713475616\n",
      "noah -0.02727317338628937\n",
      "fatima 0.22448654171207402\n",
      "ahmed -0.22846722117077348\n",
      "hana 0.38027427026126415\n",
      "mohammed -0.34174291081225605\n",
      "lucia 0.26566567058234297\n",
      "carlos -0.24291298322050836\n",
      "ananya 0.20666545477883805\n",
      "arjun 0.05038626829497463\n",
      "sofia 0.16121005676532355\n",
      "kevin -0.2009401289514348\n",
      "nina 0.40915235779400533\n",
      "jacob -0.20164050749841994\n",
      "chiara 0.3054608000338558\n",
      "hiroshi -0.031869486673264245\n",
      "leila 0.22022968585449493\n",
      "omar -0.35574527274694584\n"
     ]
    }
   ],
   "source": [
    "print ('List of names and their similarities with constructed vector:')\n",
    "\n",
    "# girls and boys name\n",
    "name_list = [\n",
    "    'emma',     # female\n",
    "    'liam',     # male\n",
    "    'olivia',   # female\n",
    "    'noah',     # male\n",
    "    'fatima',   # female\n",
    "    'ahmed',    # male\n",
    "    'hana',     # female\n",
    "    'mohammed', # male\n",
    "    'lucia',    # female\n",
    "    'carlos',   # male\n",
    "    'ananya',   # female\n",
    "    'arjun',    # male\n",
    "    'sofia',    # female\n",
    "    'kevin',    # male\n",
    "    'nina',     # female\n",
    "    'jacob',    # male\n",
    "    'chiara',   # female (Italian)\n",
    "    'hiroshi',  # male (Japanese)\n",
    "    'leila',    # female (Persian/Arabic)\n",
    "    'omar'      # male (Arabic)\n",
    "]\n",
    "\n",
    "for w in name_list:\n",
    "    print (w, cosine_similarity(word_to_vec_map[w], g))"
   ]
  },
  {
   "cell_type": "markdown",
   "id": "865aff65-2418-4cde-b925-bb169d0e22f3",
   "metadata": {},
   "source": [
    "<a name='5.3'></a>\n",
    "\n",
    "### 5.3 - Inspecting Other Words and Their Similarities with the Gender Direction\n",
    "\n"
   ]
  },
  {
   "cell_type": "code",
   "execution_count": 24,
   "id": "6acc62a2-388e-44dd-8ef8-3b2669af34f7",
   "metadata": {},
   "outputs": [
    {
     "name": "stdout",
     "output_type": "stream",
     "text": [
      "Other words and their similarities with the gender direction vector:\n",
      "\n",
      "lipstick       : +0.4642 (Female)\n",
      "guns           : -0.1404 (Male)\n",
      "science        : -0.0817 (Male)\n",
      "arts           : -0.0332 (Male)\n",
      "literature     : -0.0614 (Male)\n",
      "warrior        : -0.2081 (Male)\n",
      "doctor         : +0.0738 (Female)\n",
      "tree           : +0.0568 (Female)\n",
      "receptionist   : +0.3802 (Female)\n",
      "technology     : -0.1568 (Male)\n",
      "fashion        : +0.1337 (Female)\n",
      "teacher        : +0.0536 (Female)\n",
      "engineer       : -0.2546 (Male)\n",
      "pilot          : -0.0355 (Male)\n",
      "computer       : -0.1285 (Male)\n",
      "singer         : +0.2035 (Female)\n",
      "nurse          : +0.3619 (Female)\n",
      "soldier        : -0.0192 (Male)\n",
      "kitchen        : +0.1408 (Female)\n",
      "mathematics    : -0.1949 (Male)\n"
     ]
    }
   ],
   "source": [
    "print(\"Other words and their similarities with the gender direction vector:\\n\")\n",
    "\n",
    "word_list = [\n",
    "    'lipstick', 'guns', 'science', 'arts', 'literature', 'warrior',\n",
    "    'doctor', 'tree', 'receptionist', 'technology', 'fashion',\n",
    "    'teacher', 'engineer', 'pilot', 'computer', 'singer',\n",
    "    'nurse', 'soldier', 'kitchen', 'mathematics'\n",
    "]\n",
    "\n",
    "for w in word_list:\n",
    "    val = cosine_similarity(word_to_vec_map[w], g)\n",
    "    biased_embedding = 'Male' if val < 0 else 'Female'\n",
    "    print(f\"{w:<15s}: {val:+.4f} ({biased_embedding})\")\n"
   ]
  },
  {
   "cell_type": "markdown",
   "id": "4fb9aaa0-836c-4ff7-a6f7-01e60933159d",
   "metadata": {},
   "source": [
    "<a name='5.4'></a>\n",
    "\n",
    "### 5.4 – Neutralizing Bias in Non-Gendered Words\n",
    "\n",
    "We now aim to remove gender bias from words that **should be neutral** (like *doctor*, *receptionist*, *scientist*, etc.). This is done using a process called **neutralization**, which removes the component of a word vector along the **bias direction** $g$.\n",
    "\n",
    "<a name='5.4.1'></a>\n",
    "\n",
    "#### 5.4.1 – Step-by-Step: Neutralizing a Word Vector\n",
    "\n",
    "Let’s say we want to debias the word “receptionist.” Here's how the process works:\n",
    "\n",
    "1. **Get the word vector**\n",
    "   Retrieve the original embedding $e$ of the word (e.g., `word_to_vec_map['receptionist']`).\n",
    "\n",
    "2. **Compute the projection onto the bias direction**\n",
    "   Use the formula for vector projection to compute how much of $e$ lies in the direction of the gender bias vector $g$:\n",
    "\n",
    "   $$\n",
    "   e^{\\text{bias\\_component}} = \\frac{e \\cdot g}{\\|g\\|^2} \\cdot g\n",
    "   $$\n",
    "\n",
    "3. **Subtract the bias component**\n",
    "   Remove the gender component from $e$ by subtracting the projection:\n",
    "\n",
    "   $$\n",
    "   e^{\\text{debiased}} = e - e^{\\text{bias\\_component}}\n",
    "   $$\n",
    "\n",
    "4. **(Optional) Normalize the result**\n",
    "   You may want to normalize $e^{\\text{debiased}}$ to maintain consistency across vector magnitudes."
   ]
  },
  {
   "cell_type": "code",
   "execution_count": 25,
   "id": "d448f90e-08f1-49fe-8584-6d77115661ec",
   "metadata": {},
   "outputs": [
    {
     "name": "stderr",
     "output_type": "stream",
     "text": [
      "100%|█████████████████████████████████████████████████████████████████████████████████████████████████████████████████████████████████████████████████████████████████████████████████████████████| 400000/400000 [00:03<00:00, 122606.27it/s]\n"
     ]
    },
    {
     "name": "stdout",
     "output_type": "stream",
     "text": [
      "cosine similarity between receptionist and g, before neutralizing:  0.38022007647892747\n",
      "cosine similarity between receptionist and g_unit, after neutralizing:  8.699848094296604e-17\n"
     ]
    }
   ],
   "source": [
    "# normalized all word embeddings:\n",
    "from tqdm import tqdm\n",
    "word_to_vec_map_unit_vectors = {\n",
    "    word: embedding / np.linalg.norm(embedding)\n",
    "    for word, embedding in tqdm(word_to_vec_map.items())\n",
    "}\n",
    "\n",
    "# built a list of gender direction vectors:\n",
    "g_list = [\n",
    "    word_to_vec_map_unit_vectors[f] - word_to_vec_map_unit_vectors[m]\n",
    "    for f, m in gender_pairs\n",
    "]\n",
    "\n",
    "# averaged those directions into a single vector g_unit:\n",
    "g_unit = np.mean(g_list, axis=0)\n",
    "\n",
    "# normalized g_unit so it becomes a unit vector:\n",
    "g_unit = g_unit / np.linalg.norm(g_unit)\n",
    "\n",
    "word = \"receptionist\"\n",
    "print(\"cosine similarity between \" + word + \" and g, before neutralizing: \", cosine_similarity(word_to_vec_map[word], g))\n",
    "\n",
    "e_debiased = neutralize(word, g_unit, word_to_vec_map_unit_vectors)\n",
    "print(\"cosine similarity between \" + word + \" and g_unit, after neutralizing: \", cosine_similarity(e_debiased, g_unit))"
   ]
  },
  {
   "cell_type": "markdown",
   "id": "b5af2b61-b0c5-4fc2-92b4-476dd77ad7cb",
   "metadata": {},
   "source": [
    "<a name='5.5'></a>\n",
    "\n",
    "### 5.5 – Equalization Algorithm for Gender-Specific Words\n",
    "\n",
    "After neutralizing bias in gender-neutral words, the next step is **equalization** — applied to **pairs of gender-specific words** like *“actress”* and *“actor”*.\n",
    "\n",
    "Consider this example:\n",
    "Suppose *“actress”* is closer to *“babysit”* than *“actor”* is. While neutralizing *“babysit”* removes its gender bias, it does not ensure *“actress”* and *“actor”* are equally related to *“babysit”*. The **equalization algorithm** fixes this by making the two gendered words **equidistant from any neutral word** in the space orthogonal to the gender direction.\n",
    "\n",
    "\n",
    "<a name='5.5.1'></a>\n",
    "#### 5.5.1 – Step-by-Step: Equalization a Word Vector\n",
    "\n",
    "* The embedding space is decomposed into the **bias direction** $g$ and its orthogonal complement $g_{\\perp}$.\n",
    "* Equalization ensures that a gender pair $(e_{w1}, e_{w2})$ differ **only along the bias direction**, and are symmetric with respect to the neutral subspace.\n",
    "* This means both words become the same distance from the neutral embeddings, like $e_{\\text{receptionist}}^{\\text{debiased}}$."
   ]
  },
  {
   "cell_type": "code",
   "execution_count": 26,
   "id": "554c4438-219b-4938-86e7-3ace06b156eb",
   "metadata": {},
   "outputs": [
    {
     "name": "stdout",
     "output_type": "stream",
     "text": [
      "Cosine similarities before equalizing:\n",
      "cosine_similarity(word_to_vec_map_unit_vectors[\"man\"], g_unit) = 0.1419782859202815\n",
      "cosine_similarity(word_to_vec_map_unit_vectors[\"woman\"], g_unit) = -0.27437106617184615\n",
      "\n",
      "Cosine similarities after equalizing:\n",
      "cosine_similarity(e1, g_unit) = 0.2477197532311338\n",
      "cosine_similarity(e2, g_unit) = -0.24771975323113374\n"
     ]
    }
   ],
   "source": [
    "print(\"Cosine similarities before equalizing:\")\n",
    "print(\"cosine_similarity(word_to_vec_map_unit_vectors[\\\"man\\\"], g_unit) =\", cosine_similarity(word_to_vec_map_unit_vectors[\"man\"], g_unit))\n",
    "print(\"cosine_similarity(word_to_vec_map_unit_vectors[\\\"woman\\\"], g_unit) =\", cosine_similarity(word_to_vec_map_unit_vectors[\"woman\"], g_unit))\n",
    "print()\n",
    "\n",
    "e1, e2 = equalize((\"man\", \"woman\"), g_unit, word_to_vec_map_unit_vectors)\n",
    "\n",
    "print(\"Cosine similarities after equalizing:\")\n",
    "print(\"cosine_similarity(e1, g_unit) =\", cosine_similarity(e1, g_unit))\n",
    "print(\"cosine_similarity(e2, g_unit) =\", cosine_similarity(e2, g_unit))"
   ]
  },
  {
   "cell_type": "code",
   "execution_count": 27,
   "id": "d3b4afbb-687b-4a7d-bbdb-cd815a66cb31",
   "metadata": {},
   "outputs": [
    {
     "ename": "NameError",
     "evalue": "name 'words' is not defined",
     "output_type": "error",
     "traceback": [
      "\u001b[0;31m---------------------------------------------------------------------------\u001b[0m",
      "\u001b[0;31mNameError\u001b[0m                                 Traceback (most recent call last)",
      "Cell \u001b[0;32mIn[27], line 34\u001b[0m\n\u001b[1;32m     31\u001b[0m debias_tsne \u001b[38;5;241m=\u001b[39m tsne\u001b[38;5;241m.\u001b[39mfit_transform(debias_embeds)\n\u001b[1;32m     33\u001b[0m \u001b[38;5;66;03m# 5. plot before and after side-by-side\u001b[39;00m\n\u001b[0;32m---> 34\u001b[0m \u001b[43mplot_debiasing_tsne\u001b[49m\u001b[43m(\u001b[49m\u001b[43moriginal_tsne\u001b[49m\u001b[43m,\u001b[49m\u001b[43m \u001b[49m\u001b[38;5;124;43m\"\u001b[39;49m\u001b[38;5;124;43mt-SNE of Original Embeddings (Before Debiasing)\u001b[39;49m\u001b[38;5;124;43m\"\u001b[39;49m\u001b[43m)\u001b[49m\n\u001b[1;32m     35\u001b[0m plot_debiasing_tsne(debias_tsne, \u001b[38;5;124m\"\u001b[39m\u001b[38;5;124mt-SNE of Debiased Embeddings (After Neutralize + Equalize)\u001b[39m\u001b[38;5;124m\"\u001b[39m)\n",
      "File \u001b[0;32m~/Documents/deep_projects/embeddings/Introduction to Word Vectors and Debiasing/utils.py:22\u001b[0m, in \u001b[0;36mplot_debiasing_tsne\u001b[0;34m(embeds_2d, title)\u001b[0m\n\u001b[1;32m     19\u001b[0m plt\u001b[38;5;241m.\u001b[39mfigure(figsize\u001b[38;5;241m=\u001b[39m(\u001b[38;5;241m10\u001b[39m, \u001b[38;5;241m8\u001b[39m))\n\u001b[1;32m     21\u001b[0m \u001b[38;5;66;03m# colour coding\u001b[39;00m\n\u001b[0;32m---> 22\u001b[0m \u001b[38;5;28;01mfor\u001b[39;00m i, word \u001b[38;5;129;01min\u001b[39;00m \u001b[38;5;28menumerate\u001b[39m(\u001b[43mwords\u001b[49m):\n\u001b[1;32m     23\u001b[0m     \u001b[38;5;28;01mif\u001b[39;00m word \u001b[38;5;129;01min\u001b[39;00m [w \u001b[38;5;28;01mfor\u001b[39;00m pair \u001b[38;5;129;01min\u001b[39;00m gender_pairs \u001b[38;5;28;01mfor\u001b[39;00m w \u001b[38;5;129;01min\u001b[39;00m pair]:\n\u001b[1;32m     24\u001b[0m         color \u001b[38;5;241m=\u001b[39m \u001b[38;5;124m'\u001b[39m\u001b[38;5;124mred\u001b[39m\u001b[38;5;124m'\u001b[39m       \u001b[38;5;66;03m# gendered words - red\u001b[39;00m\n",
      "\u001b[0;31mNameError\u001b[0m: name 'words' is not defined"
     ]
    },
    {
     "data": {
      "text/plain": [
       "<Figure size 1000x800 with 0 Axes>"
      ]
     },
     "metadata": {},
     "output_type": "display_data"
    }
   ],
   "source": [
    "# example words (you can extend this list)\n",
    "gender_pairs = [(\"man\", \"woman\"), (\"king\", \"queen\"), (\"actor\", \"actress\")]\n",
    "neutral_words = [\"receptionist\", \"scientist\", \"nurse\", \"engineer\"]\n",
    "other_words = [\"apple\", \"car\", \"tree\", \"music\"]\n",
    "\n",
    "words = [w for pair in gender_pairs for w in pair] + neutral_words + other_words\n",
    "\n",
    "# 1. Original embeddings (unit vectors)\n",
    "original_embeds = np.array([word_to_vec_map_unit_vectors[w] for w in words])\n",
    "\n",
    "# 2. Debiasing embeddings\n",
    "# Neutralize neutral words\n",
    "debias_embeds = []\n",
    "for w in words:\n",
    "    if w in neutral_words:\n",
    "        debias_embeds.append(neutralize(w, g_unit, word_to_vec_map_unit_vectors))\n",
    "    else:\n",
    "        debias_embeds.append(word_to_vec_map_unit_vectors[w])\n",
    "debias_embeds = np.array(debias_embeds)\n",
    "\n",
    "# Equalize gender pairs\n",
    "for w1, w2 in gender_pairs:\n",
    "    e1, e2 = equalize((w1, w2), g_unit, word_to_vec_map_unit_vectors)\n",
    "    debias_embeds[words.index(w1)] = e1\n",
    "    debias_embeds[words.index(w2)] = e2\n",
    "\n",
    "# 3. t-SNE transform\n",
    "tsne = TSNE(n_components=2, random_state=42, perplexity=5)\n",
    "\n",
    "original_tsne = tsne.fit_transform(original_embeds)\n",
    "debias_tsne = tsne.fit_transform(debias_embeds)\n",
    "\n",
    "# 5. plot before and after side-by-side\n",
    "plot_debiasing_tsne(original_tsne, words, \"t-SNE of Original Embeddings (Before Debiasing)\")\n",
    "plot_debiasing_tsne(debias_tsne, words, \"t-SNE of Debiased Embeddings (After Neutralize + Equalize)\")\n"
   ]
  },
  {
   "cell_type": "code",
   "execution_count": null,
   "id": "3b9925e8-768a-40d3-962b-e086c3e08607",
   "metadata": {},
   "outputs": [],
   "source": []
  }
 ],
 "metadata": {
  "kernelspec": {
   "display_name": "Python 3 (ipykernel)",
   "language": "python",
   "name": "python3"
  },
  "language_info": {
   "codemirror_mode": {
    "name": "ipython",
    "version": 3
   },
   "file_extension": ".py",
   "mimetype": "text/x-python",
   "name": "python",
   "nbconvert_exporter": "python",
   "pygments_lexer": "ipython3",
   "version": "3.9.21"
  }
 },
 "nbformat": 4,
 "nbformat_minor": 5
}
