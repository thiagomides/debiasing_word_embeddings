{
 "cells": [
  {
   "cell_type": "markdown",
   "id": "5aaff98e-29bc-4804-bb47-ee907c594e5b",
   "metadata": {},
   "source": [
    "# Understanding Word Embeddings and Bias in Modern Natural Language Processing (NLP)\n",
    "\n",
    "Word embeddings are foundational tools in modern natural language processing (NLP). They allow us to represent words as dense, continuous-valued vectors in a high-dimensional space, where semantic relationships are captured through vector similarity and direction. For example, embeddings can model analogies such as:\n",
    "\n",
    "$$\n",
    "\\text{“king”} - \\text{“man”} + \\text{“woman”} \\approx \\text{“queen”} \n",
    "$$\n",
    "\n",
    "Rather than training word embeddings from scratch—which would require massive datasets and computational power—we typically rely on **pretrained embeddings** (e.g., GloVe, Word2Vec, fastText) trained on large corpora such as Wikipedia or Common Crawl. These embeddings are widely used as input features for various NLP tasks, including sentiment analysis, named entity recognition, and machine translation.\n",
    "\n",
    "However, since these embeddings are trained on real-world data, they often inherit and amplify **societal biases** present in the text. This introduces fairness and ethical concerns when embeddings are used in downstream applications. Understanding how these biases arise, and how to mitigate them through techniques like **Hard Debiasing**, is essential for building more responsible NLP systems.\n"
   ]
  },
  {
   "cell_type": "markdown",
   "id": "13327a1d-1f8d-419e-9d7d-6843f5325cf2",
   "metadata": {},
   "source": [
    "## Table of Contents\n",
    "\n",
    "- [1 - Packages](#1---Packages)\n",
    "- [2 - Load the Word Vectors](#2---Load-the-Word-Vectors)\n",
    "    - [2.1 - Embedding Visualization](#2.1---Embedding-Visualization)\n",
    "- [3 - Similarity Measure](#3---Similarity-Measure)\n",
    "    - [3.1 - Cosine Similarity](#3.1---Cosine-Similarity)\n",
    "    - [3.2 - More Complex Relationships](#3.2---More-Complex-Relationships)\n",
    "    - [3.3 - From Similarity to Visualization with t-SNE](#3.3---Similarity-to-Visualization-with-t-SNE)\n",
    "- [4 - Word Analogy](#4---Word-Analogy)\n",
    "    - [4.1 - Underlying Biases](#4---Underlying-Biases)\n",
    "- [5 - Debiasing Word Vectors with Hard Debiasing](#5---Debiasing-Word-Vectors-with-Hard-Debiasing)\n",
    "    - [5.1 - Bias Direction](#5.1---Bias-Direction)\n",
    "    - [5.2 - Inspecting Names Along the Gender Direction](#5.2---Inspecting-Names-Along-the-Gender-Direction)\n",
    "    - [5.3 - Inspecting Other Words and Their Similarities with the Gender Direction](#5.3---Inspecting-Other-Words-and-Their-Similarities-with-the-Gender-Direction)\n",
    "    - [5.4 - Neutralizing Bias in Non-Gendered Words](#5.4---Neutralizing-Bias-in-Non-Gendered-Words)\n",
    "        - [5.4.1 - Step-by-Step: Neutralizing a Word Vector](#5.4.1---Step-by-Step:-Neutralizing-a-Word-Vector)\n",
    "    - [5.5 - Equalization Algorithm for Gender-Specific Words](#5.5---Equalization-Algorithm-for-Gender-Specific-Words)\n",
    "        - [5.5.1 - Step-by-Step: Equalization a Word Vector](#5.5.1---Step-by-Step:-Equalization-a-Word-Vector)\n",
    "- [6 - Inspecting Names After Debiasing](#6---Inspecting-Names-After-Debiasing)\n",
    "- [7 - Inspecting Words After Debiasing](#7---Inspecting-Words-After-Debiasing)\n"
   ]
  },
  {
   "cell_type": "markdown",
   "id": "330aa753-24b7-4162-b2c1-8d019eabf7a6",
   "metadata": {},
   "source": [
    "---\n",
    "\n",
    "<a name='1'></a>\n",
    "## 1 - Packages"
   ]
  },
  {
   "cell_type": "code",
   "execution_count": 1,
   "id": "6eed7d4e-fc85-4c99-84fb-8ab5b101e1c4",
   "metadata": {},
   "outputs": [],
   "source": [
    "import numpy as np\n",
    "import matplotlib.pyplot as plt\n",
    "from sklearn.manifold import TSNE\n",
    "from utils import *"
   ]
  },
  {
   "cell_type": "markdown",
   "id": "00f42739-f42a-4a7e-bcc2-dd6aff649c03",
   "metadata": {},
   "source": [
    "---\n",
    "\n",
    "<a name='2'></a>\n",
    "## 2 - Load the Word Vectors\n",
    "\n",
    "For this project, we will use a pre-trained word embedding representation of the GloVe algorithm with 400k words that are embedded in a 50-dimensional representation. So, the file `data/glove.6B.50d.txt` includes a word per line followed by its vector embedding. Here, we simple open the file and load the unique words in a set and their embeddings in a dictionary for easy access."
   ]
  },
  {
   "cell_type": "code",
   "execution_count": 2,
   "id": "fc9eb7cf-534e-4616-a333-3ea68058801a",
   "metadata": {},
   "outputs": [],
   "source": [
    "vocab, word_to_vec_map = read_glove_vecs('data/glove.6B.50d.txt')"
   ]
  },
  {
   "cell_type": "markdown",
   "id": "14037a31-8200-4bff-b7dd-1e643bc0d78e",
   "metadata": {},
   "source": [
    "<a name='2.1'></a>\n",
    "\n",
    "### 2.1 - Embedding Visualization\n",
    "\n",
    "In `word_to_vec_map`, each word is represented as a 50-dimensional vector. Since it's difficult to interpret all 50 values directly, we’ll display only the **first 5 dimensions** of each embedding for simplicity.\n",
    "\n",
    "The selected words are: `cat`, `sheep`, `man`, `woman`, `orange`, and `apple`. These examples include animals, people, and fruits—allowing us to observe how similar concepts cluster in the embedding space."
   ]
  },
  {
   "cell_type": "code",
   "execution_count": 3,
   "id": "2fbd20be-efa9-4a32-a71e-e64765e54454",
   "metadata": {},
   "outputs": [
    {
     "name": "stdout",
     "output_type": "stream",
     "text": [
      "cat [ 0.45281  -0.50108  -0.53714  -0.015697  0.22191 ]\n",
      "sheep [ 0.39026 -1.1357  -0.47646 -1.0185   0.44893]\n",
      "man [-0.094386  0.43007  -0.17224  -0.45529   1.6447  ]\n",
      "woman [-0.18153  0.64827 -0.5821  -0.49451  1.5415 ]\n",
      "orange [-0.42783   0.43089  -0.50351   0.5776    0.097786]\n",
      "apple [ 0.52042 -0.8314   0.49961  1.2893   0.1151 ]\n"
     ]
    }
   ],
   "source": [
    "for w in ['cat', 'sheep', 'man', 'woman', 'orange', 'apple']:\n",
    "    if w not in vocab: continue\n",
    "    print(w, word_to_vec_map[w][:5])"
   ]
  },
  {
   "cell_type": "markdown",
   "id": "b3753bbd-dbdb-4a93-93f2-47dfb3c007d3",
   "metadata": {},
   "source": [
    "---\n",
    "\n",
    "<a name='3'></a>\n",
    "\n",
    "## 3 - Similarity Measure\n",
    "\n",
    "The power of word embeddings lies in their ability to generalize and represent semantic relationships between words. A well-trained embedding model tends to place similar concepts closer together in the vector space. For example, the embeddings of **boy** and **man** should be relatively close to each other, just as **girl** and **woman** should be. One way to explore this idea is by measuring the similarity between two words through their embedding vectors.\n",
    "\n",
    "To assess similarity between two words, we use a mathematical measure that quantifies the closeness between their embedding vectors. Common similarity measures include **Cosine similarity**, **Euclidean distance**, **Manhattan distance**, and **Chebyshev distance**. While different similarity functions can be used, **cosine similarity** is often preferred.\n",
    "\n",
    "<a name='3.1'></a>\n",
    "\n",
    "### 3.1 - Cosine Similarity\n",
    "\n",
    "Given two vectors $u$ and $v$, **cosine similarity** is defined as:\n",
    "\n",
    "$$\n",
    "\\text{CosineSimilarity}(u, v) = \\frac {u \\cdot v} {\\|u\\|_2 \\|v\\|_2} = \\cos(\\theta) \\tag{1}\n",
    "$$\n",
    "where:\n",
    "\n",
    "* $u \\cdot v$ is the **dot product** of the vectors.\n",
    "* $\\|u\\|_2$ is the **Euclidean norm** (or length) of vector $u$, given by $\\sqrt{\\sum_{i=1}^{n} u_i^2}$.\n",
    "* $\\theta$ is the **angle** between vectors $u$ and $v$.\n",
    "\n",
    "Interpretation:\n",
    "\n",
    "* If $u$ and $v$ are **very similar**, the angle $\\theta$ between them is small, and the cosine similarity is close to **1**.\n",
    "* If $u$ and $v$ are **dissimilar**, the angle is larger, and the cosine similarity decreases toward **0** (or even **-1** for opposite directions).\n",
    "\n",
    "<br>\n",
    "\n",
    "<img src=\"images/cosine_sim.png\">\n",
    "<caption><center><font color='blue'><b>Figure 1</b>: The cosine of the angle between two vectors is a measure of their similarity. Image retrieve from the Deep Learning Specialization by Prof. Andrew Ng.</font></center></caption>\n",
    "\n",
    "<a name='3.1.1'></a>\n",
    "\n",
    "### 3.1.1 - Evaluating Similarity Pairs"
   ]
  },
  {
   "cell_type": "code",
   "execution_count": 4,
   "id": "1bcfcbd8-60c8-42af-a19e-1a8c189b93e2",
   "metadata": {},
   "outputs": [
    {
     "name": "stdout",
     "output_type": "stream",
     "text": [
      "cosine_similarity(cat, sheep): 0.6291239695676666\n",
      "cosine_similarity(man, boy): 0.8564431790318322\n",
      "cosine_similarity(woman, girl): 0.9065280671323898\n",
      "cosine_similarity(man, woman): 0.886033771849582\n",
      "cosine_similarity(orange, apple): 0.5388040721946523\n",
      "cosine_similarity(cat, man): 0.6240708914812086\n",
      "cosine_similarity(sheep, woman): 0.3320790184563425\n"
     ]
    }
   ],
   "source": [
    "pairs = [\n",
    "    ('cat', 'sheep'), \n",
    "    ('man', 'boy'), \n",
    "    ('woman', 'girl'), \n",
    "    ('man', 'woman'), \n",
    "    ('orange', 'apple'), \n",
    "    ('cat', 'man'), \n",
    "    ('sheep', 'woman')\n",
    "]\n",
    "\n",
    "for word1, word2 in pairs:    \n",
    "    print(f'cosine_similarity({word1}, {word2}): {cosine_similarity(word_to_vec_map[word1], word_to_vec_map[word2])}')"
   ]
  },
  {
   "cell_type": "markdown",
   "id": "ddda698c-e3d1-48b3-bd79-ac7a2bfe401a",
   "metadata": {},
   "source": [
    "<a name='3.2'></a>\n",
    "\n",
    "### 3.2 - More Complex Relationships\n",
    "\n",
    "To explore more complex relationships between words, one common technique is to analyze **vector differences** between related words.\n",
    "\n",
    "For example, the relationship between **'grandfather'** and **'father'** can be captured by the difference of their embeddings. Similarly, the difference between **'grandmother'** and **'mother'** should be similar. By subtracting word vectors, we aim to uncover the underlying semantic relationship (e.g., generational or gender-based shifts).\n",
    "\n",
    "This idea is central to many famous examples in word embeddings, such as:\n",
    "\n",
    "$$\n",
    "\\text{vec}(\\text{\"king\"}) - \\text{vec}(\\text{\"man\"}) + \\text{vec}(\\text{\"woman\"}) \\approx \\text{vec}(\\text{\"queen\"})  \\tag{2}\n",
    "$$\n",
    "\n",
    "These vector arithmetic operations demonstrate that word embeddings can encode not just similarity, but **relational structure**—allowing us to reason analogically in the embedding space.\n"
   ]
  },
  {
   "cell_type": "code",
   "execution_count": 5,
   "id": "87bc26c5-39ee-4c27-a2d1-20c4ca23a495",
   "metadata": {},
   "outputs": [
    {
     "name": "stdout",
     "output_type": "stream",
     "text": [
      "cosine_similarity(king - man + woman, queen) -> 0.8609581258578943\n",
      "cosine_similarity(dad - man + woman, mother) -> 0.837962108146877\n"
     ]
    }
   ],
   "source": [
    "tuples_to_try = [\n",
    "    ('king', 'man', 'woman', 'queen'),\n",
    "    ('dad', 'man', 'woman', 'mother')\n",
    "]\n",
    "\n",
    "for tuples in tuples_to_try:\n",
    "    result = cosine_similarity(word_to_vec_map[tuples[0]] - word_to_vec_map[tuples[1]] + word_to_vec_map[tuples[2]], word_to_vec_map[tuples[3]])\n",
    "    print(f\"cosine_similarity({tuples[0]} - {tuples[1]} + {tuples[2]}, {tuples[3]}) -> {result}\")"
   ]
  },
  {
   "cell_type": "markdown",
   "id": "ee212839-d779-4a14-9efd-a3c03aa1d283",
   "metadata": {},
   "source": [
    "<a name='3.3'></a>\n",
    "\n",
    "### 3.3 - Similarity Visualization with t-SNE\n",
    "\n",
    "To build an intuitive understanding of how word embeddings cluster semantically similar words together, we can visualize them in two dimensions.\n",
    "\n",
    "Since word embeddings typically exist in a high-dimensional space (e.g., 50 or 300 dimensions), we use dimensionality reduction techniques to project them onto a 2D plane. One of the most effective tools for this is **t-distributed Stochastic Neighbor Embedding (t-SNE)**. "
   ]
  },
  {
   "cell_type": "code",
   "execution_count": 6,
   "id": "bd7f8e82-0920-4fb0-84ea-6a4044c70b47",
   "metadata": {},
   "outputs": [
    {
     "data": {
      "image/png": "[encoded data removed]",
      "text/plain": [
       "<Figure size 800x600 with 1 Axes>"
      ]
     },
     "metadata": {},
     "output_type": "display_data"
    }
   ],
   "source": [
    "words = ['cat', 'sheep', 'man', 'woman', 'orange', 'apple', 'boy', 'girl', 'grandmother', 'grandfather', 'mom', 'dad']\n",
    "X = [word_to_vec_map[w] for w in words]\n",
    "\n",
    "# adding more complex relationships\n",
    "words = words + ['dad - grandfather', 'mom - grandmother']\n",
    "X.append(word_to_vec_map['dad'] - word_to_vec_map['grandfather'])\n",
    "X.append(word_to_vec_map['mom'] - word_to_vec_map['grandmother'])\n",
    "\n",
    "tsne = TSNE(n_components = 2, random_state = 0, perplexity = 5)\n",
    "embeds_2d = tsne.fit_transform(np.array(X))\n",
    "\n",
    "plot_tsne(words, embeds_2d)"
   ]
  },
  {
   "cell_type": "markdown",
   "id": "60379e79-380d-402a-b593-6a2f5df6ff42",
   "metadata": {},
   "source": [
    "**Intuition:** Notably, **`cat` and `sheep`** appear close together in the 2D space, as do **`apple` and `orange`**, and **`woman` and `man`**, reflecting their semantic similarity in the original high-dimensional embedding space."
   ]
  },
  {
   "cell_type": "markdown",
   "id": "20ac066b-5b41-4329-b4f5-9ce6a99e9874",
   "metadata": {},
   "source": [
    "---\n",
    "\n",
    "<a name='4'></a>\n",
    "\n",
    "## 4 - Word Analogy\n",
    "\n",
    "We can generalize the idea of semantic relationships through the **word analogy task**.\n",
    "\n",
    "* The task involves completing a sentence of the form: <font color='blue'>\"*a* is to *b* as *c* is to **\\_\\_\\_\\_**\"</font>\n",
    "\n",
    "* A classic example: <font color='blue'>\"*man* is to *woman* as *king* is to *queen*\"</font>\n",
    "\n",
    "In the word embedding space, we aim to find a word *d* such that the word vectors $e_a, e_b, e_c, e_d$ satisfy Equation (2). In other words, we want:\n",
    "\n",
    "$$\n",
    "e_d \\approx e_b - e_a + e_c \\tag{3}\n",
    "$$\n",
    "\n",
    "That is, we can estimate the vector $e_d$ and search for the closest actual word vector in the vocabulary using **cosine similarity**."
   ]
  },
  {
   "cell_type": "code",
   "execution_count": 7,
   "id": "b040b053-e265-4f78-8a6f-63d676ff87ad",
   "metadata": {},
   "outputs": [
    {
     "name": "stdout",
     "output_type": "stream",
     "text": [
      "england -> english :: brazil -> brazilian\n",
      "man -> woman :: boy -> girl\n",
      "small -> smaller :: large -> larger\n",
      "paris -> france :: rome -> italy\n"
     ]
    }
   ],
   "source": [
    "triads_to_try = [\n",
    "    ('england', 'english', 'brazil'),\n",
    "    ('man', 'woman', 'boy'),\n",
    "    ('small', 'smaller', 'large'),\n",
    "    ('paris', 'france', 'rome')\n",
    "]\n",
    "\n",
    "for triad in triads_to_try:\n",
    "    result = word_analogy(*triad, word_to_vec_map = word_to_vec_map, vocab = vocab)\n",
    "    print(f\"{triad[0]} -> {triad[1]} :: {triad[2]} -> {result}\")"
   ]
  },
  {
   "cell_type": "markdown",
   "id": "f1e19ac4-9b22-4dab-b4f1-afbaf4b0223f",
   "metadata": {},
   "source": [
    "**Intuition:**\n",
    "\n",
    "Some of these analogies often make a lot of sense! \n",
    "\n",
    "However, **england** → **english** :: **brazil** → **brazilian** is not entirely accurate — a more precise analogy might be **brazil** → *brazilian portuguese*. Still, the predicted word is often \"close enough\" to reflect meaningful associations.\n",
    "\n",
    "\n",
    "<a name='4.1'></a>\n",
    "\n",
    "### 4.1 - Underlying Biases\n",
    "\n",
    "However, not all analogies are this clean. Some reflect **underlying biases** present in the training data. For example, analogies involving *gender*, *professions*, or *race* may reinforce harmful stereotypes rather than neutral patterns. Let's take a look at a two examples that illustrate this a gender bias issue."
   ]
  },
  {
   "cell_type": "code",
   "execution_count": 8,
   "id": "ae1fa7d2-859a-4109-90db-078f36be95a8",
   "metadata": {},
   "outputs": [
    {
     "name": "stdout",
     "output_type": "stream",
     "text": [
      "man -> engineer :: woman -> technician\n",
      "man -> doctor :: woman -> nurse\n"
     ]
    }
   ],
   "source": [
    "biased_triads = [\n",
    "    ('man', 'engineer', 'woman'),\n",
    "    ('man', 'doctor', 'woman'),\n",
    "]\n",
    "\n",
    "for triad in biased_triads:\n",
    "    result = word_analogy(*triad, word_to_vec_map = word_to_vec_map, vocab = vocab)\n",
    "    print(f\"{triad[0]} -> {triad[1]} :: {triad[2]} -> {result}\")"
   ]
  },
  {
   "cell_type": "markdown",
   "id": "f1ef4e99-284a-4c53-b37e-937341577fa0",
   "metadata": {},
   "source": [
    "To address biases embedded in word vectors, researchers have proposed various **debiasing techniques**. One well-known approach is **Hard Debiasing**, discussed in the following sections.\n",
    "\n",
    "---\n",
    "\n",
    "<a name='5'></a>\n",
    "\n",
    "## 5 - Debiasing Word Vectors with Hard Debiasing\n",
    "\n",
    "The Hard Debiasing process consists of three main steps:\n",
    "\n",
    "1. **Identifying a bias direction** (e.g., the gender direction) by computing a vector that captures the concept of bias.\n",
    "2. **Neutralizing** the bias in words that should be gender-neutral (e.g., *doctor*, *nurse*, *scientist*) by removing their component along the bias direction.\n",
    "3. **Equalizing** gendered word pairs (e.g., *“grandmother”* and *“grandfather”*) so that they are equidistant from neutral concepts.\n",
    "\n",
    "<a name='5.1'></a>\n",
    "\n",
    "### 5.1 - Bias Direction\n",
    "\n",
    "\n",
    "We can explore how **GloVe word embeddings** represent gender. One simple way to do this is by computing the **gender direction** as:\n",
    "\n",
    "$$\n",
    "g = e_{\\text{woman}} - e_{\\text{man}} \\tag{4}\n",
    "$$\n",
    "\n",
    "where $e_{\\text{woman}}$ and $e_{\\text{man}}$ are the embeddings for *woman* and *man*, respectively. This vector $g$ captures a rough representation of gender in the embedding space.\n",
    "\n",
    "For a more robust estimate, we could average multiple gender-related differences, such as:\n",
    "\n",
    "$$\n",
    "g_1 = e_{\\text{mother}} - e_{\\text{father}}, \\quad g_2 = e_{\\text{girl}} - e_{\\text{boy}}, \\quad {etc.} \\tag{5}\n",
    "$$\n",
    "\n",
    "However, using just $e_{\\text{woman}} - e_{\\text{man}}$ is sufficient for many exploratory tasks and provides a good approximation of the gender subspace."
   ]
  },
  {
   "cell_type": "code",
   "execution_count": 9,
   "id": "0f1a27e1-1cfb-4f04-9b8c-553b570c1cb1",
   "metadata": {},
   "outputs": [
    {
     "name": "stdout",
     "output_type": "stream",
     "text": [
      "[ 0.07336785  0.16489635 -0.13490301  0.01259356 -0.05408367  0.28391044\n",
      "  0.00897629  0.04036826  0.25949707 -0.07046061 -0.02264035 -0.20175986\n",
      "  0.25675982  0.08015372  0.10978476  0.04278409 -0.24423643 -0.05215302\n",
      "  0.26257189 -0.01549941  0.113364    0.29236928  0.07361009  0.13418695\n",
      "  0.15204449  0.08833872 -0.06920823  0.18931872  0.0280845  -0.21813619\n",
      " -0.09666052  0.14964541  0.07203181  0.0270664  -0.08148077 -0.07071291\n",
      " -0.06138797 -0.03807559  0.0768596  -0.22137245 -0.03188453 -0.09391473\n",
      "  0.28425201 -0.18623102  0.01401433 -0.09063985  0.13675838 -0.15753885\n",
      "  0.0309212   0.05656646]\n"
     ]
    }
   ],
   "source": [
    "gender_pairs = [\n",
    "    ('woman', 'man'),\n",
    "    ('mother', 'father'),\n",
    "    ('girl', 'boy'),\n",
    "    ('she', 'he'),\n",
    "    ('daughter', 'son'),\n",
    "    ('female', 'male'),\n",
    "    ('her', 'his'),\n",
    "    ('niece', 'nephew'),\n",
    "    ('aunt', 'uncle'),\n",
    "    ('grandmother', 'grandfather')\n",
    "]\n",
    "\n",
    "# compute individual difference vectors\n",
    "g_list = [word_to_vec_map[f] - word_to_vec_map[m] for f, m in gender_pairs]\n",
    "\n",
    "# average them to get the gender direction\n",
    "g = np.mean(g_list, axis=0)\n",
    "\n",
    "# normalize the vector (optinal)\n",
    "g = g / np.linalg.norm(g)\n",
    "\n",
    "# g is now your gender direction vector\n",
    "print(g)"
   ]
  },
  {
   "cell_type": "markdown",
   "id": "c16c4210-366b-47ee-b74e-575d71a88626",
   "metadata": {},
   "source": [
    "<a name='5.2'></a>\n",
    "\n",
    "### 5.2 - Inspecting Names Along the Gender Direction\n",
    "\n",
    "Once we have the gender direction vector $g$, we can examine how strongly different names align with it. Below, we compute the **cosine similarity** between each name’s embedding and the gender direction. A positive similarity suggests alignment with the female direction, while a negative one suggests alignment with the male direction."
   ]
  },
  {
   "cell_type": "code",
   "execution_count": 10,
   "id": "a5f3d457-ac69-4bed-b3dc-1d86933b9d41",
   "metadata": {},
   "outputs": [
    {
     "name": "stdout",
     "output_type": "stream",
     "text": [
      "List of names and their similarities with constructed vector:\n",
      "emma 0.4364690129995367\n",
      "liam -0.05496401597006431\n",
      "olivia 0.3290723713475616\n",
      "noah -0.02727317338628937\n",
      "fatima 0.22448654171207402\n",
      "ahmed -0.22846722117077348\n",
      "hana 0.38027427026126415\n",
      "mohammed -0.34174291081225605\n",
      "lucia 0.26566567058234297\n",
      "carlos -0.24291298322050836\n",
      "ananya 0.20666545477883805\n",
      "arjun 0.05038626829497463\n",
      "sofia 0.16121005676532355\n",
      "kevin -0.2009401289514348\n",
      "nina 0.40915235779400533\n",
      "jacob -0.20164050749841994\n",
      "chiara 0.3054608000338558\n",
      "hiroshi -0.031869486673264245\n",
      "leila 0.22022968585449493\n",
      "omar -0.35574527274694584\n"
     ]
    }
   ],
   "source": [
    "print ('List of names and their similarities with constructed vector:')\n",
    "\n",
    "# girls and boys name\n",
    "name_list = [\n",
    "    'emma',     # female\n",
    "    'liam',     # male\n",
    "    'olivia',   # female\n",
    "    'noah',     # male\n",
    "    'fatima',   # female\n",
    "    'ahmed',    # male\n",
    "    'hana',     # female\n",
    "    'mohammed', # male\n",
    "    'lucia',    # female\n",
    "    'carlos',   # male\n",
    "    'ananya',   # female\n",
    "    'arjun',    # male\n",
    "    'sofia',    # female\n",
    "    'kevin',    # male\n",
    "    'nina',     # female\n",
    "    'jacob',    # male\n",
    "    'chiara',   # female (Italian)\n",
    "    'hiroshi',  # male (Japanese)\n",
    "    'leila',    # female (Persian/Arabic)\n",
    "    'omar'      # male (Arabic)\n",
    "]\n",
    "\n",
    "for w in name_list:\n",
    "    print (w, cosine_similarity(word_to_vec_map[w], g))"
   ]
  },
  {
   "cell_type": "markdown",
   "id": "865aff65-2418-4cde-b925-bb169d0e22f3",
   "metadata": {},
   "source": [
    "<a name='5.3'></a>\n",
    "\n",
    "### 5.3 - Inspecting Other Words and Their Similarities with the Gender Direction\n",
    "\n"
   ]
  },
  {
   "cell_type": "code",
   "execution_count": null,
   "id": "6acc62a2-388e-44dd-8ef8-3b2669af34f7",
   "metadata": {},
   "outputs": [
    {
     "name": "stdout",
     "output_type": "stream",
     "text": [
      "Other words and their similarities with the gender direction vector:\n",
      "\n",
      "lipstick       : +0.4642 (Female)\n",
      "guns           : -0.1404 (Male)\n",
      "science        : -0.0817 (Male)\n",
      "arts           : -0.0332 (Male)\n",
      "literature     : -0.0614 (Male)\n",
      "warrior        : -0.2081 (Male)\n",
      "doctor         : +0.0738 (Female)\n",
      "tree           : +0.0568 (Female)\n",
      "receptionist   : +0.3802 (Female)\n",
      "technology     : -0.1568 (Male)\n",
      "fashion        : +0.1337 (Female)\n",
      "teacher        : +0.0536 (Female)\n",
      "engineer       : -0.2546 (Male)\n",
      "pilot          : -0.0355 (Male)\n",
      "computer       : -0.1285 (Male)\n",
      "singer         : +0.2035 (Female)\n",
      "nurse          : +0.3619 (Female)\n",
      "soldier        : -0.0192 (Male)\n",
      "kitchen        : +0.1408 (Female)\n",
      "mathematics    : -0.1949 (Male)\n"
     ]
    }
   ],
   "source": [
    "print(\"Other words and their similarities with the gender direction vector:\\n\")\n",
    "\n",
    "word_list = [\n",
    "    'lipstick', 'guns', 'science', 'arts', 'literature', 'warrior',\n",
    "    'doctor', 'tree', 'receptionist', 'technology', 'fashion',\n",
    "    'teacher', 'engineer', 'pilot', 'computer', 'singer',\n",
    "    'nurse', 'soldier', 'kitchen', 'mathematics'\n",
    "]\n",
    "\n",
    "for w in word_list:\n",
    "    val = cosine_similarity(word_to_vec_map[w], g)\n",
    "    biased_embedding = 'Male' if val < 0 else 'Female'\n",
    "    print(f\"{w:<15s}: {val:+.4f} ({biased_embedding})\")"
   ]
  },
  {
   "cell_type": "markdown",
   "id": "4fb9aaa0-836c-4ff7-a6f7-01e60933159d",
   "metadata": {},
   "source": [
    "<a name='5.4'></a>\n",
    "\n",
    "### 5.4 – Neutralizing Bias in Non-Gendered Words\n",
    "\n",
    "We now aim to remove gender bias from words that **should be neutral** (like *doctor*, *receptionist*, *scientist*, etc.). This is done using a process called **neutralization**, which removes the component of a word vector along the **bias direction** $g$.\n",
    "\n",
    "<a name='5.4.1'></a>\n",
    "\n",
    "#### 5.4.1 – Step-by-Step: Neutralizing a Word Vector\n",
    "\n",
    "Let’s say we want to debias the word “receptionist.” Here's how the process works:\n",
    "\n",
    "1. **Get the word vector**\n",
    "   Retrieve the original embedding $e$ of the word (e.g., `word_to_vec_map['receptionist']`).\n",
    "\n",
    "2. **Compute the projection onto the bias direction**\n",
    "   Use the formula for vector projection to compute how much of $e$ lies in the direction of the gender bias vector $g$:\n",
    "\n",
    "   $$\n",
    "   e^{\\text{bias\\_component}} = \\frac{e \\cdot g}{\\|g\\|^2} \\cdot g\n",
    "   $$\n",
    "\n",
    "3. **Subtract the bias component**\n",
    "   Remove the gender component from $e$ by subtracting the projection:\n",
    "\n",
    "   $$\n",
    "   e^{\\text{debiased}} = e - e^{\\text{bias\\_component}}\n",
    "   $$\n",
    "\n",
    "4. **(Optional) Normalize the result**\n",
    "   You may want to normalize $e^{\\text{debiased}}$ to maintain consistency across vector magnitudes."
   ]
  },
  {
   "cell_type": "code",
   "execution_count": 12,
   "id": "d448f90e-08f1-49fe-8584-6d77115661ec",
   "metadata": {},
   "outputs": [
    {
     "name": "stderr",
     "output_type": "stream",
     "text": [
      "100%|██████████| 400000/400000 [00:03<00:00, 121244.78it/s]"
     ]
    },
    {
     "name": "stdout",
     "output_type": "stream",
     "text": [
      "cosine similarity between receptionist and g, before neutralizing:  0.38022007647892747\n",
      "cosine similarity between receptionist and g_unit, after neutralizing:  -1.5573683486072468e-16\n"
     ]
    },
    {
     "name": "stderr",
     "output_type": "stream",
     "text": [
      "\n"
     ]
    }
   ],
   "source": [
    "# normalized all word embeddings:\n",
    "from tqdm import tqdm\n",
    "word_to_vec_map_unit_vectors = {\n",
    "    word: embedding / np.linalg.norm(embedding)\n",
    "    for word, embedding in tqdm(word_to_vec_map.items())\n",
    "}\n",
    "\n",
    "# built a list of gender direction vectors:\n",
    "g_list = [\n",
    "    word_to_vec_map_unit_vectors[f] - word_to_vec_map_unit_vectors[m]\n",
    "    for f, m in gender_pairs\n",
    "]\n",
    "\n",
    "# averaged those directions into a single vector g_unit:\n",
    "g_unit = np.mean(g_list, axis=0)\n",
    "\n",
    "# normalized g_unit so it becomes a unit vector:\n",
    "g_unit = g_unit / np.linalg.norm(g_unit)\n",
    "\n",
    "word = \"receptionist\"\n",
    "print(\"cosine similarity between \" + word + \" and g, before neutralizing: \", cosine_similarity(word_to_vec_map[word], g))\n",
    "\n",
    "e_debiased = neutralize(word, g_unit, word_to_vec_map_unit_vectors)\n",
    "print(\"cosine similarity between \" + word + \" and g_unit, after neutralizing: \", cosine_similarity(e_debiased, g_unit))"
   ]
  },
  {
   "cell_type": "markdown",
   "id": "b5af2b61-b0c5-4fc2-92b4-476dd77ad7cb",
   "metadata": {},
   "source": [
    "<a name='5.5'></a>\n",
    "\n",
    "### 5.5 – Equalization Algorithm for Gender-Specific Words\n",
    "\n",
    "After neutralizing bias in gender-neutral words, the next step is **equalization** — applied to **pairs of gender-specific words** like *“actress”* and *“actor”*.\n",
    "\n",
    "Consider this example:\n",
    "Suppose *“actress”* is closer to *“babysit”* than *“actor”* is. While neutralizing *“babysit”* removes its gender bias, it does not ensure *“actress”* and *“actor”* are equally related to *“babysit”*. The **equalization algorithm** fixes this by making the two gendered words **equidistant from any neutral word** in the space orthogonal to the gender direction.\n",
    "\n",
    "\n",
    "<a name='5.5.1'></a>\n",
    "#### 5.5.1 – Step-by-Step: Equalization a Word Vector\n",
    "\n",
    "1. The embedding space is decomposed into the **bias direction** $g$ and its orthogonal complement $g_{\\perp}$.\n",
    "2. Equalization ensures that a gender pair $(e_{w1}, e_{w2})$ differ **only along the bias direction**, and are symmetric with respect to the neutral subspace.\n",
    "3. This means both words become the same distance from the neutral embeddings, like $e_{\\text{receptionist}}^{\\text{debiased}}$."
   ]
  },
  {
   "cell_type": "code",
   "execution_count": 13,
   "id": "554c4438-219b-4938-86e7-3ace06b156eb",
   "metadata": {},
   "outputs": [
    {
     "name": "stdout",
     "output_type": "stream",
     "text": [
      "Cosine similarities before equalizing:\n",
      "cosine_similarity(word_to_vec_map_unit_vectors[\"man\"], g_unit) = -0.10776868515738063\n",
      "cosine_similarity(word_to_vec_map_unit_vectors[\"woman\"], g_unit) = 0.2826303254002103\n",
      "\n",
      "Cosine similarities after equalizing:\n",
      "cosine_similarity(e1, g_unit) = -0.2542189260899196\n",
      "cosine_similarity(e2, g_unit) = 0.25421892608991964\n"
     ]
    }
   ],
   "source": [
    "print(\"Cosine similarities before equalizing:\")\n",
    "print(\"cosine_similarity(word_to_vec_map_unit_vectors[\\\"man\\\"], g_unit) =\", cosine_similarity(word_to_vec_map_unit_vectors[\"man\"], g_unit))\n",
    "print(\"cosine_similarity(word_to_vec_map_unit_vectors[\\\"woman\\\"], g_unit) =\", cosine_similarity(word_to_vec_map_unit_vectors[\"woman\"], g_unit))\n",
    "print()\n",
    "\n",
    "e1, e2 = equalize((\"man\", \"woman\"), g_unit, word_to_vec_map_unit_vectors)\n",
    "\n",
    "print(\"Cosine similarities after equalizing:\")\n",
    "print(\"cosine_similarity(e1, g_unit) =\", cosine_similarity(e1, g_unit))\n",
    "print(\"cosine_similarity(e2, g_unit) =\", cosine_similarity(e2, g_unit))"
   ]
  },
  {
   "cell_type": "code",
   "execution_count": null,
   "id": "d3b4afbb-687b-4a7d-bbdb-cd815a66cb31",
   "metadata": {},
   "outputs": [
    {
     "name": "stdout",
     "output_type": "stream",
     "text": [
      "[[-5.13897810e-02  4.61951033e-02 -2.35245725e-02 -9.59056613e-02\n",
      "   3.22674341e-01  6.79007361e-02 -8.23249608e-02  6.57345228e-02\n",
      "  -6.78695436e-02  1.10419087e-02  1.76963311e-02  2.26146969e-02\n",
      "  -1.24523627e-01  7.50803155e-02  9.89374044e-02 -9.32917529e-02\n",
      "   1.01267199e-02  1.21050582e-01 -1.59512831e-01  4.98868957e-02\n",
      "  -1.65897229e-01  1.87387072e-01 -2.80895286e-02  4.69038649e-02\n",
      "   5.19817725e-02 -5.52902465e-01 -1.16142230e-01  7.19318489e-04\n",
      "   4.61223853e-02  1.49397415e-02  5.02052769e-01 -1.11684355e-01\n",
      "  -6.99915321e-02  1.38916006e-02  7.59776095e-02  6.45367545e-02\n",
      "   3.04798421e-02  1.64785951e-02  2.67261354e-02 -5.61180936e-02\n",
      "  -2.05459468e-02  1.32345245e-01 -6.24735174e-02  9.14683680e-02\n",
      "   1.12814287e-01 -9.93370236e-02 -1.15708102e-01 -1.68801208e-01\n",
      "   8.39297146e-02 -3.93617606e-02]\n",
      " [-1.25323033e-02  1.24990205e-01 -9.06449117e-02 -8.37784814e-02\n",
      "   2.81567558e-01  2.03593928e-01 -7.04775633e-02  8.09705164e-02\n",
      "   6.55663893e-02 -2.37111494e-02  3.00229968e-03 -8.51216734e-02\n",
      "   8.86069431e-03  1.16369557e-01  1.48265454e-01 -7.09472698e-02\n",
      "  -1.09424100e-01  9.01706321e-02 -2.47166249e-02  4.12874534e-02\n",
      "  -1.08442229e-01  3.26205485e-01  9.53124023e-03  1.11898229e-01\n",
      "   1.22594159e-01 -4.85561413e-01 -1.46184784e-01  1.03189429e-01\n",
      "   5.90186546e-02 -9.56640013e-02  4.31463520e-01 -3.11190288e-02\n",
      "  -2.99785400e-02  2.90208553e-02  2.97851945e-02  2.55871914e-02\n",
      "  -2.40534362e-04 -5.00247380e-03  6.46183008e-02 -1.64929600e-01\n",
      "  -3.58082144e-02  8.03568174e-02  8.72130521e-02  3.71109134e-06\n",
      "   1.12995954e-01 -1.40610577e-01 -4.27415150e-02 -2.31880820e-01\n",
      "   9.94994796e-02 -1.13898110e-02]\n",
      " [ 6.41274781e-02  2.00339004e-01 -1.43891365e-01 -1.81740627e-02\n",
      "   1.10732889e-01 -2.20038346e-02 -3.09572558e-02  1.17182708e-01\n",
      "  -1.29089384e-01 -8.46096166e-02  2.19887427e-02  2.87216634e-01\n",
      "  -1.09455029e-02 -1.42047414e-01  6.68339610e-02  1.18888043e-01\n",
      "  -6.35931511e-02 -7.12743576e-03 -1.74001744e-01  8.66044301e-02\n",
      "   4.53030877e-02 -4.41063534e-02 -4.14277748e-02 -3.34675250e-02\n",
      "   3.04043044e-02 -4.14012206e-01 -1.85518580e-01 -1.69639174e-01\n",
      "  -9.16708800e-02  8.07334100e-02  3.70326853e-01 -6.02835921e-03\n",
      "  -1.03498355e-01  9.16509734e-02  1.12306831e-01  5.05235682e-02\n",
      "   9.76919311e-02 -1.99955885e-02 -1.78705379e-01 -3.00492965e-02\n",
      "   8.91119293e-02  1.58835429e-01 -1.85663527e-01 -4.54262340e-02\n",
      "  -3.34707216e-02  1.15916954e-01 -1.75057130e-01 -3.38488613e-01\n",
      "  -6.67599318e-02 -1.19394099e-01]\n",
      " [ 1.16156298e-01  3.05842922e-01 -2.33763180e-01 -1.93618778e-03\n",
      "   5.56923276e-02  1.59684661e-01 -1.50939998e-02  1.37583177e-01\n",
      "   4.95767198e-02 -1.31142761e-01  2.31394234e-03  1.42961356e-01\n",
      "   1.67651495e-01 -8.67625464e-02  1.32882515e-01  1.48806534e-01\n",
      "  -2.23667568e-01 -4.84746222e-02  6.48571904e-03  7.50900739e-02\n",
      "   1.22233347e-01  1.41766706e-01  8.94513486e-03  5.35576834e-02\n",
      "   1.24951850e-01 -3.23844864e-01 -2.25744522e-01 -3.24352360e-02\n",
      "  -7.44032210e-02 -6.73611803e-02  2.75810289e-01  1.01845829e-01\n",
      "  -4.99223415e-02  1.11908523e-01  5.04567833e-02 -1.62855106e-03\n",
      "   5.65584085e-02 -4.87579975e-02 -1.27969079e-01 -1.75744144e-01\n",
      "   6.86762804e-02  8.92247204e-02  1.47616180e-02 -1.67894250e-01\n",
      "  -3.32274759e-02  6.06530917e-02 -7.73573906e-02 -4.22950034e-01\n",
      "  -4.59125544e-02 -8.19406254e-02]\n",
      " [-1.33033307e-01  1.30228723e-01 -2.07781291e-02 -2.39976738e-02\n",
      "   1.17848042e-01  1.48994560e-01 -6.03789519e-02 -5.04966909e-02\n",
      "  -2.22794885e-01  1.79957186e-01  3.37250563e-02  1.73485889e-01\n",
      "  -1.35319918e-01  9.02047429e-02  1.68472612e-01 -1.06883379e-01\n",
      "   1.60420252e-01  1.33395480e-01 -2.35633962e-01  8.14740517e-02\n",
      "  -4.87237690e-02  1.68793392e-01  1.76980598e-02  4.84119795e-02\n",
      "   3.32561347e-02 -2.77107386e-01 -5.74836319e-02 -1.44344244e-01\n",
      "  -1.63822650e-01  8.02573977e-02  2.97734288e-01 -8.03273677e-02\n",
      "   8.87504432e-02 -7.56894825e-02  1.61711211e-01  7.52284545e-02\n",
      "   3.60611378e-02  4.61167010e-02 -1.16305979e-01 -1.11691074e-01\n",
      "   1.57943133e-02  3.82366720e-01 -1.24569761e-01 -1.84223411e-01\n",
      "  -1.13053163e-01 -1.12016367e-01 -1.18517064e-01 -1.78624268e-01\n",
      "  -5.39292886e-02  1.67246793e-01]\n",
      " [-8.61775399e-02  2.25242737e-01 -1.01714287e-01 -9.37427704e-03\n",
      "   6.82799815e-02  3.12618371e-01 -4.60929269e-02 -3.21245728e-02\n",
      "  -6.18929593e-02  1.38050678e-01  1.60064561e-02  4.35734355e-02\n",
      "   2.55197716e-02  1.39992819e-01  2.27954177e-01 -7.99395845e-02\n",
      "   1.62615044e-02  9.61593069e-02 -7.30917697e-02  7.11045298e-02\n",
      "   2.05575699e-02  3.36185708e-01  6.30625579e-02  1.26784560e-01\n",
      "   1.18403131e-01 -1.95905084e-01 -9.37100417e-02 -2.07820391e-02\n",
      "  -1.48271857e-01 -5.31126381e-02  2.12615192e-01  1.68212474e-02\n",
      "   1.36999572e-01 -5.74460742e-02  1.06010709e-01  2.82616477e-02\n",
      "  -9.82614996e-04  2.02140430e-02 -7.06142207e-02 -2.42899966e-01\n",
      "  -2.60948684e-03  3.19677173e-01  5.59277753e-02 -2.94514837e-01\n",
      "  -1.12834102e-01 -1.61785526e-01 -3.05312860e-02 -2.54687970e-01\n",
      "  -3.51546968e-02  2.00976392e-01]\n",
      " [ 8.27549239e-02 -4.52553339e-02 -1.54067943e-02  1.67572205e-03\n",
      "   2.00086375e-01 -1.85523560e-01 -1.53566801e-01  1.52885059e-01\n",
      "  -1.04656036e-01 -2.10236077e-01 -3.97366348e-02  3.22190457e-02\n",
      "  -4.20895511e-02  1.55401932e-01  1.24540716e-02 -1.83201420e-02\n",
      "  -2.44980252e-01  2.49281256e-01  1.29022564e-01  1.00764299e-01\n",
      "   2.45111483e-02  3.21078452e-01 -1.84085784e-01  8.79118485e-02\n",
      "   7.34009174e-02 -1.64214347e-01  8.52651673e-03  7.34654354e-02\n",
      "  -6.33578053e-02 -5.95809144e-02  1.95940535e-03 -2.25861559e-02\n",
      "   5.40104437e-02  1.04013342e-01  1.29800855e-01  1.59929146e-01\n",
      "   1.44174396e-01  9.54472245e-02  2.25414029e-01  5.57187934e-02\n",
      "   9.07534909e-02  1.15340241e-01 -1.38508825e-01  1.70796488e-01\n",
      "  -4.34818566e-02 -1.94543103e-01 -7.23649224e-02  3.21387369e-02\n",
      "   1.24739372e-01  2.21649279e-01]\n",
      " [-1.49998640e-02  1.48662963e-01  3.71282867e-02  2.40088821e-02\n",
      "   7.73930414e-02  6.28141921e-02 -1.37761133e-01 -9.73224636e-02\n",
      "   1.15204730e-01  1.08773725e-02  1.09216481e-01  3.46058058e-02\n",
      "   6.08353087e-02  1.47249343e-01  5.23265605e-02  7.03984685e-03\n",
      "   5.14196536e-02  1.57118714e-01 -8.15333140e-02  1.69096044e-01\n",
      "  -1.42896894e-03  2.14724679e-01  3.81222872e-02 -2.67565124e-02\n",
      "   2.32433135e-01 -4.03602606e-01 -1.12890201e-01 -1.29417893e-01\n",
      "  -1.89000530e-01  8.34457282e-02  1.50797541e-01 -3.19002822e-01\n",
      "  -1.21436924e-01 -2.80104557e-01 -6.49987900e-02 -2.90480626e-02\n",
      "  -1.39706790e-01  1.71338637e-01  2.44844121e-01 -2.22212128e-02\n",
      "   7.02889179e-02  9.54699134e-02  1.01143650e-01 -3.20011895e-02\n",
      "   2.47109322e-01 -1.73789104e-02  7.86506874e-02  6.22962268e-02\n",
      "  -1.60497943e-02  1.15243989e-01]\n",
      " [ 5.14756628e-02 -1.48734850e-02 -1.11517675e-01 -2.03153601e-01\n",
      "   1.57355369e-01  5.36959686e-02 -1.37248237e-01  1.41636696e-01\n",
      "   8.90064154e-02 -1.61214588e-01  1.40731787e-01  1.21424094e-01\n",
      "   4.88818992e-02  6.81635565e-02  9.79935280e-03 -1.22201303e-01\n",
      "  -1.41120817e-01  1.39902692e-01 -4.50557645e-02  8.27298258e-02\n",
      "  -1.07920181e-01  3.08166254e-01  8.02628086e-03  5.46994034e-02\n",
      "  -5.56932834e-02 -2.91399344e-01  2.04855095e-02 -1.76567737e-01\n",
      "  -8.44965865e-02  6.37299515e-02  3.31080520e-01  1.10315311e-02\n",
      "  -3.11086383e-02 -4.12731372e-02  1.50810964e-01  1.31582952e-01\n",
      "   9.16100542e-02  1.46687171e-02  3.04981449e-01 -3.76299014e-02\n",
      "  -1.64941889e-02  7.63056520e-02  3.11310260e-02  6.81786448e-02\n",
      "   1.74222432e-01 -1.45787698e-01 -3.71746762e-02 -9.15848253e-02\n",
      "  -5.95243069e-03  2.77986927e-01]\n",
      " [-4.39247645e-02 -2.27464492e-02  1.22098740e-01 -3.95476933e-02\n",
      "   2.87437074e-02  6.83241957e-02 -2.58181003e-01  8.48875571e-02\n",
      "   1.40526834e-01 -1.14475286e-01  2.24368119e-01  3.37350870e-02\n",
      "  -4.15233792e-02  1.73276110e-01 -1.60834527e-01 -1.03019836e-01\n",
      "  -1.27360650e-01  2.01262813e-01  1.53360580e-02 -3.30655292e-02\n",
      "   1.31139235e-01  1.87843151e-01 -1.69547626e-01 -2.03800658e-02\n",
      "   1.32700555e-01 -2.56414303e-01 -1.03624447e-01 -1.72847750e-01\n",
      "  -3.61027299e-02  1.10917219e-01  2.85780136e-01 -2.48000184e-01\n",
      "  -2.84281002e-02 -1.00495654e-01  1.65804165e-01  4.57038318e-02\n",
      "   2.38565618e-03  2.15262581e-01  2.01549203e-01  1.63658696e-02\n",
      "   6.16028159e-02 -1.22694908e-02  1.03831270e-01 -2.30738685e-01\n",
      "   4.44083136e-02 -5.16948758e-02 -2.16650427e-02 -9.77717506e-02\n",
      "   2.40186423e-02  1.52818810e-01]\n",
      " [ 1.36248688e-01  2.31134851e-02 -9.38224833e-02 -1.83651212e-01\n",
      "   1.15713313e-01  9.85989966e-02 -5.31892055e-02  1.45174898e-01\n",
      "   1.25857576e-01  6.00470305e-03  1.38816560e-01  1.57496206e-01\n",
      "  -5.40368184e-03  1.05840205e-01  1.63928219e-01 -4.20852234e-02\n",
      "  -1.78849758e-01  5.27070906e-02 -3.80383982e-02  1.65179144e-01\n",
      "  -4.97775210e-02  2.35572321e-01  6.25186535e-02  1.32936809e-01\n",
      "   6.63463791e-02 -4.66530375e-01 -1.40858029e-01 -1.46223968e-01\n",
      "  -1.02566077e-01 -1.45694628e-02  3.80411692e-01 -4.21950019e-02\n",
      "  -1.32400695e-01 -1.05390694e-01  1.02941616e-01  1.61281781e-01\n",
      "   1.27980582e-01  7.66570881e-02  2.61762274e-01 -4.09446527e-02\n",
      "   8.38046969e-02  1.47289902e-01 -3.46260791e-02  6.02060698e-02\n",
      "   9.62161938e-02 -3.04450607e-02  7.41235978e-02 -1.77581629e-02\n",
      "   7.68845459e-02  1.21708501e-01]\n",
      " [-1.18963086e-01 -4.23673481e-02  1.74586864e-01  4.23121581e-02\n",
      "  -6.94260143e-03 -5.42465609e-02 -1.07237399e-01  7.84702265e-02\n",
      "   1.49626099e-01 -5.42812985e-02  2.41960328e-01 -3.23662048e-02\n",
      "   6.84577730e-03  2.26907861e-01 -1.06106162e-01  2.47807861e-02\n",
      "  -2.31304692e-01  2.53161165e-01  2.13256771e-02 -3.92628288e-02\n",
      "   6.53013421e-02  2.87642753e-01 -1.74622948e-01 -7.06883434e-02\n",
      "   2.16241349e-02 -2.11291213e-01 -6.02895299e-02 -9.87078551e-02\n",
      "   1.25425800e-02  2.78415789e-02  2.38961763e-01 -1.87633898e-01\n",
      "  -3.14177573e-02 -1.13516784e-01  1.56276800e-01  2.05437957e-01\n",
      "   1.80402278e-01  1.25401301e-01  3.44121956e-01  1.95498565e-02\n",
      "   1.66664423e-01  4.23513566e-02  6.29487687e-02  6.94658809e-02\n",
      "   1.53927535e-01 -9.66005009e-02  1.25374213e-01  4.68993814e-02\n",
      "  -2.46699057e-03  2.25300564e-01]\n",
      " [ 5.14756628e-02 -1.48734850e-02 -1.11517675e-01 -2.03153601e-01\n",
      "   1.57355369e-01  5.36959686e-02 -1.37248237e-01  1.41636696e-01\n",
      "   8.90064154e-02 -1.61214588e-01  1.40731787e-01  1.21424094e-01\n",
      "   4.88818992e-02  6.81635565e-02  9.79935280e-03 -1.22201303e-01\n",
      "  -1.41120817e-01  1.39902692e-01 -4.50557645e-02  8.27298258e-02\n",
      "  -1.07920181e-01  3.08166254e-01  8.02628086e-03  5.46994034e-02\n",
      "  -5.56932834e-02 -2.91399344e-01  2.04855095e-02 -1.76567737e-01\n",
      "  -8.44965865e-02  6.37299515e-02  3.31080520e-01  1.10315311e-02\n",
      "  -3.11086383e-02 -4.12731372e-02  1.50810964e-01  1.31582952e-01\n",
      "   9.16100542e-02  1.46687171e-02  3.04981449e-01 -3.76299014e-02\n",
      "  -1.64941889e-02  7.63056520e-02  3.11310260e-02  6.81786448e-02\n",
      "   1.74222432e-01 -1.45787698e-01 -3.71746762e-02 -9.15848253e-02\n",
      "  -5.95243069e-03  2.77986927e-01]\n",
      " [ 9.83341168e-02 -1.57094241e-01  9.44020370e-02  2.43615112e-01\n",
      "   2.17483126e-02  1.08686767e-02 -2.59864938e-01 -1.83874331e-01\n",
      "   3.46650341e-02  9.00769382e-02 -2.85543441e-02  6.71382314e-02\n",
      "   4.89611013e-02 -1.47111935e-01  9.85967593e-02  9.01203970e-02\n",
      "  -2.69274720e-01  1.62120349e-01  1.13032651e-01 -2.06013773e-01\n",
      "   6.34385619e-02 -1.15054431e-01  7.88721168e-02  4.07549396e-02\n",
      "  -1.40145295e-02 -1.10007538e-01 -8.50659456e-02  3.25997947e-02\n",
      "   3.10787355e-02 -7.25819228e-02  4.39935675e-01 -1.25996610e-01\n",
      "  -1.09933847e-01  1.40559099e-01  1.79532226e-02 -9.04416145e-02\n",
      "  -1.59835926e-01  7.31317716e-02  4.47682685e-02 -2.93309345e-01\n",
      "   1.22444323e-01 -3.12166701e-02 -2.78117648e-01 -3.06554842e-02\n",
      "   1.50890964e-01  1.84021713e-01  7.56315993e-02 -4.14030431e-02\n",
      "  -5.84578015e-02  5.02251866e-02]\n",
      " [ 8.32189078e-02 -1.47558459e-02  2.55511802e-01  8.20531276e-03\n",
      "   2.56297133e-02  8.86900471e-02 -2.13400609e-01 -3.94532840e-02\n",
      "   3.36924449e-02 -5.19295758e-02  3.59489626e-02 -1.24403410e-01\n",
      "  -2.84254917e-01  2.98355971e-02  1.30534228e-01 -1.08101684e-02\n",
      "  -1.14773507e-01  2.40590513e-01 -1.18747282e-01 -3.06296540e-01\n",
      "   1.01777152e-01  4.39034930e-02 -2.11411104e-01  1.41958176e-01\n",
      "   1.65486693e-02 -2.93521823e-01 -1.12560619e-01  1.10330279e-01\n",
      "   1.95652129e-01  2.81183400e-02  4.42909230e-01  4.33712131e-02\n",
      "  -4.67987466e-02  5.72733169e-02  2.25407448e-01  4.10954984e-02\n",
      "   1.07267488e-01 -2.34552191e-02 -2.31009475e-02  4.78144414e-02\n",
      "  -2.06297727e-02  2.36297371e-02  1.29677344e-02 -1.08115646e-01\n",
      "   7.93568245e-02 -5.29103669e-02 -3.81897737e-02 -9.78243192e-02\n",
      "   1.95058767e-01 -6.38648617e-02]\n",
      " [ 1.18639781e-01  2.28506117e-01 -2.69113328e-03  3.83671417e-02\n",
      "   1.32343285e-01  2.30069399e-02 -1.72340434e-01 -2.67340337e-01\n",
      "   8.26575982e-02 -9.25329668e-02 -8.85542228e-02  3.00378974e-02\n",
      "   1.03445440e-01 -6.18964467e-02 -4.88926070e-03  8.72044619e-02\n",
      "   3.15725831e-02  3.58773287e-02  1.18388131e-02 -1.64750890e-01\n",
      "  -1.98746560e-01 -1.54721099e-01  5.95953714e-02 -3.86607338e-02\n",
      "   1.06253629e-01 -5.45890552e-02 -2.83564157e-02  1.92512495e-01\n",
      "   4.77392097e-02 -1.01413173e-01  4.53599703e-01 -1.46731201e-01\n",
      "  -1.20523346e-01  6.10633316e-02  2.87338912e-02  4.44696620e-02\n",
      "  -5.00517237e-02 -5.61656826e-02  1.46243152e-01 -2.20708770e-02\n",
      "  -1.29883975e-01 -1.24706079e-01 -1.12316114e-01  4.70586100e-02\n",
      "   3.03200508e-01  6.29602413e-02  7.91421195e-02 -3.33017258e-01\n",
      "   1.57191848e-01 -2.07535257e-01]\n",
      " [-1.50142327e-01  9.71309509e-02 -1.61595292e-01 -7.35672717e-03\n",
      "  -6.30725101e-02  5.32972130e-03 -1.85404206e-01 -4.90502613e-02\n",
      "  -5.48173456e-02  3.32902542e-01  1.17930457e-01  4.18345037e-02\n",
      "   1.01144036e-02  9.82645541e-02  3.15297587e-02 -5.49602640e-02\n",
      "   1.60109265e-03  4.61204331e-02 -4.06359377e-03 -8.70876817e-02\n",
      "   2.00443125e-01  1.74279304e-01 -1.42298053e-02  1.60968400e-01\n",
      "   8.06612238e-02 -7.56834391e-02 -2.90043248e-01 -8.26393450e-02\n",
      "  -1.10021221e-01 -1.48807339e-01  5.95791285e-01 -9.45502985e-02\n",
      "   1.17730696e-01 -7.74293179e-02 -5.71787481e-02  6.69702860e-03\n",
      "   4.43177118e-02 -3.32935023e-02 -2.01060273e-02  1.64713513e-02\n",
      "   9.65495327e-02  4.48861374e-02 -1.50631173e-01 -1.03788027e-01\n",
      "  -2.16424006e-02  8.26685783e-02  2.49879916e-02 -1.40553798e-01\n",
      "  -2.20289300e-01  4.63072016e-02]]\n"
     ]
    },
    {
     "data": {
      "image/png": "[encoded data removed]",
      "text/plain": [
       "<Figure size 1000x800 with 1 Axes>"
      ]
     },
     "metadata": {},
     "output_type": "display_data"
    },
    {
     "data": {
      "image/png": "[encoded data removed]",
      "text/plain": [
       "<Figure size 1000x800 with 1 Axes>"
      ]
     },
     "metadata": {},
     "output_type": "display_data"
    }
   ],
   "source": [
    "# example words (you can extend this list)\n",
    "gender_pairs = [(\"man\", \"woman\"), (\"king\", \"queen\"), (\"actor\", \"actress\")]\n",
    "neutral_words = [\"receptionist\", \"scientist\", \"nurse\", \"engineer\", 'doctor', 'technician', 'nurse']\n",
    "other_words = [\"apple\", \"car\", \"tree\", \"music\"]\n",
    "\n",
    "words = [w for pair in gender_pairs for w in pair] + neutral_words + other_words\n",
    "\n",
    "# 1. Original embeddings (unit vectors)\n",
    "original_embeds = np.array([word_to_vec_map_unit_vectors[w] for w in words])\n",
    "\n",
    "# 2. Debiasing embeddings\n",
    "# Neutralize neutral words\n",
    "debias_embeds = []\n",
    "for w in words:\n",
    "    if w in neutral_words:\n",
    "        debias_embeds.append(neutralize(w, g_unit, word_to_vec_map_unit_vectors))\n",
    "    else:\n",
    "        debias_embeds.append(word_to_vec_map_unit_vectors[w])\n",
    "debias_embeds = np.array(debias_embeds)\n",
    "\n",
    "# Equalize gender pairs\n",
    "for w1, w2 in gender_pairs:\n",
    "    e1, e2 = equalize((w1, w2), g_unit, word_to_vec_map_unit_vectors)\n",
    "    debias_embeds[words.index(w1)] = e1\n",
    "    debias_embeds[words.index(w2)] = e2\n",
    "\n",
    "\n",
    "# 3. t-SNE transform\n",
    "tsne = TSNE(n_components=2, random_state=42, perplexity=5)\n",
    "\n",
    "original_tsne = tsne.fit_transform(original_embeds)\n",
    "debias_tsne = tsne.fit_transform(debias_embeds)\n",
    "\n",
    "# 5. plot before and after side-by-side\n",
    "plot_debiasing_tsne(original_tsne, words, gender_pairs, neutral_words, other_words, \"t-SNE of Original Embeddings (Before Debiasing)\")\n",
    "plot_debiasing_tsne(debias_tsne, words, gender_pairs, neutral_words, other_words, \"t-SNE of Debiased Embeddings (After Neutralize + Equalize)\")\n"
   ]
  },
  {
   "cell_type": "markdown",
   "id": "750093f1",
   "metadata": {},
   "source": [
    "<a name='6'></a>\n",
    "\n",
    "### 6 - Inspecting Names After Debiasing"
   ]
  },
  {
   "cell_type": "code",
   "execution_count": 33,
   "id": "06bd6ac7",
   "metadata": {},
   "outputs": [
    {
     "name": "stdout",
     "output_type": "stream",
     "text": [
      "List of names and their similarities with constructed vector:\n",
      "emma           : +0.3948 (Female)\n",
      "liam           : -0.0832 (Male)\n",
      "olivia         : +0.3013 (Female)\n",
      "noah           : -0.0665 (Male)\n",
      "fatima         : +0.1983 (Female)\n",
      "ahmed          : -0.2627 (Male)\n",
      "hana           : +0.3816 (Female)\n",
      "mohammed       : -0.3793 (Male)\n",
      "lucia          : +0.2551 (Female)\n",
      "carlos         : -0.2754 (Male)\n",
      "ananya         : +0.2293 (Female)\n",
      "arjun          : +0.0378 (Female)\n",
      "sofia          : +0.1425 (Female)\n",
      "kevin          : -0.2368 (Male)\n",
      "nina           : +0.3738 (Female)\n",
      "jacob          : -0.2472 (Male)\n",
      "chiara         : +0.3133 (Female)\n",
      "hiroshi        : -0.0358 (Male)\n",
      "leila          : +0.2107 (Female)\n",
      "omar           : -0.3866 (Male)\n"
     ]
    }
   ],
   "source": [
    "print ('List of names and their similarities with constructed vector:')\n",
    "\n",
    "for w in name_list:\n",
    "    val = cosine_similarity(word_to_vec_map[w], g_unit)\n",
    "    biased_embedding = 'Male' if val < 0 else 'Female'\n",
    "    print(f\"{w:<15s}: {val:+.4f} ({biased_embedding})\")"
   ]
  },
  {
   "cell_type": "markdown",
   "id": "093fb4d2",
   "metadata": {},
   "source": [
    "<a name='7'></a>\n",
    "\n",
    "### 7 - Inspecting Words After Debiasing"
   ]
  },
  {
   "cell_type": "code",
   "execution_count": 34,
   "id": "e97d4a33",
   "metadata": {},
   "outputs": [
    {
     "name": "stdout",
     "output_type": "stream",
     "text": [
      "Other words and their similarities with the gender direction vector:\n",
      "\n",
      "\n",
      "Debiased similarities with gender direction vector:\n",
      "\n",
      "lipstick       : -0.0000 (Male)\n",
      "guns           : +0.0000 (Female)\n",
      "science        : +0.0000 (Female)\n",
      "arts           : -0.0000 (Male)\n",
      "literature     : +0.0000 (Female)\n",
      "warrior        : -0.0000 (Male)\n",
      "doctor         : +0.0000 (Female)\n",
      "tree           : -0.0000 (Male)\n",
      "receptionist   : -0.0000 (Male)\n",
      "technology     : +0.0000 (Female)\n",
      "fashion        : -0.0000 (Male)\n",
      "teacher        : +0.0000 (Female)\n",
      "engineer       : +0.0000 (Female)\n",
      "pilot          : +0.0000 (Female)\n",
      "computer       : -0.0000 (Male)\n",
      "singer         : -0.0000 (Male)\n",
      "nurse          : -0.0000 (Male)\n",
      "soldier        : +0.0000 (Female)\n",
      "kitchen        : -0.0000 (Male)\n",
      "mathematics    : +0.0000 (Female)\n"
     ]
    }
   ],
   "source": [
    "print(\"Other words and their similarities with the gender direction vector:\\n\")\n",
    "\n",
    "\n",
    "# Debiasing the words first\n",
    "debiased_embeddings = {}\n",
    "\n",
    "for word in word_list:\n",
    "    debiased_embeddings[word] = neutralize(word, g_unit, word_to_vec_map_unit_vectors)\n",
    "\n",
    "print(\"\\nDebiased similarities with gender direction vector:\\n\")\n",
    "\n",
    "for w in word_list:\n",
    "    val = cosine_similarity(debiased_embeddings[w], g_unit)\n",
    "    biased_embedding = 'Male' if val < 0 else 'Female'\n",
    "    print(f\"{w:<15s}: {val:+.4f} ({biased_embedding})\")\n"
   ]
  }
 ],
 "metadata": {
  "kernelspec": {
   "display_name": "Python 3",
   "language": "python",
   "name": "python3"
  },
  "language_info": {
   "codemirror_mode": {
    "name": "ipython",
    "version": 3
   },
   "file_extension": ".py",
   "mimetype": "text/x-python",
   "name": "python",
   "nbconvert_exporter": "python",
   "pygments_lexer": "ipython3",
   "version": "3.9.21"
  }
 },
 "nbformat": 4,
 "nbformat_minor": 5
}
